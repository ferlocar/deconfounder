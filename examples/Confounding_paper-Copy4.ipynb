{
 "cells": [
  {
   "cell_type": "markdown",
   "metadata": {},
   "source": [
    "# Load and create data sets"
   ]
  },
  {
   "cell_type": "markdown",
   "metadata": {},
   "source": [
    "Load data."
   ]
  },
  {
   "cell_type": "code",
   "execution_count": 1,
   "metadata": {},
   "outputs": [],
   "source": [
    "### LINES TO IMPORT THE DECONFOUNDER PACKAGE IN THE PARENT FOLDER ###\n",
    "import os\n",
    "import sys\n",
    "sys.path.append(\"..\")\n",
    "### IMPORTS\n",
    "from deconfounder.causal_tree import CausalTree\n",
    "from deconfounder.causal_forest import CausalForest\n",
    "from sklearn.ensemble import RandomForestClassifier\n",
    "import matplotlib.pyplot as plt\n",
    "import matplotlib.ticker as mtick\n",
    "import seaborn as sns\n",
    "import numpy as np\n",
    "from numpy.polynomial.polynomial import polyfit\n",
    "import pandas as pd\n",
    "import scipy.stats as st\n",
    "from scipy.stats import spearmanr\n",
    "from sklearn.model_selection import train_test_split\n",
    "from sklearn.model_selection import GridSearchCV\n",
    "from sklearn.model_selection import cross_val_predict\n",
    "import time\n",
    "\n",
    "# Load data\n",
    "df = pd.read_csv(\"../data/criteo-uplift-v2.1.csv\")\n",
    "df = df.sample(frac=1, random_state=42)\n",
    "all_features = df.columns.values[:12].tolist()"
   ]
  },
  {
   "cell_type": "markdown",
   "metadata": {},
   "source": [
    "Find the feature that is correalted the most with the outcome and remove that feature (i.e., the confounder)."
   ]
  },
  {
   "cell_type": "code",
   "execution_count": 2,
   "metadata": {},
   "outputs": [
    {
     "name": "stdout",
     "output_type": "stream",
     "text": [
      "f9\n"
     ]
    }
   ],
   "source": [
    "corr_matrix = df[all_features + ['visit']].corr()\n",
    "confounder = corr_matrix['visit'][:-1].sort_values().index.values[-1]\n",
    "print(confounder)\n",
    "limited_features = list(all_features)\n",
    "limited_features.remove(confounder)"
   ]
  },
  {
   "cell_type": "markdown",
   "metadata": {},
   "source": [
    "Obtain observational data. Drop observations using the confounder."
   ]
  },
  {
   "cell_type": "code",
   "execution_count": 3,
   "metadata": {},
   "outputs": [
    {
     "name": "stdout",
     "output_type": "stream",
     "text": [
      "Observational (naive) setup\n",
      "Size of data set: 6,297,527\n",
      "Avg. Outcome (treated): 5.31%\n",
      "Avg. Outcome (control): 1.23%\n",
      "Estimated avg. effect: 4.08%\n",
      "-------------\n",
      "Experimental setup\n",
      "Size of data set: 6,297,527\n",
      "Avg. Outcome (treated): 4.86%\n",
      "Avg. Outcome (control): 3.8%\n",
      "Estimated avg. effect: 1.06%\n",
      "-------------\n",
      "Entire data\n",
      "Size of data set: 13,979,592\n",
      "Avg. Outcome (treated): 4.85%\n",
      "Avg. Outcome (control): 3.82%\n",
      "Estimated avg. effect: 1.03%\n"
     ]
    }
   ],
   "source": [
    "def print_outcomes(data):\n",
    "    means = data.groupby('treatment').visit.mean()\n",
    "    print(f\"Size of data set: {data.shape[0]:,}\")\n",
    "    print(f\"Avg. Outcome (treated): {np.round(means.loc[1]*100, 2)}%\")\n",
    "    print(f\"Avg. Outcome (control): {np.round(means.loc[0]*100, 2)}%\")\n",
    "    print(f\"Estimated avg. effect: {np.round((means.loc[1]-means.loc[0])*100, 2)}%\")\n",
    "\n",
    "train_frac = 0.5\n",
    "train_size = int(df.shape[0]*train_frac)\n",
    "obs_df = df[:train_size]\n",
    "train_df = df[:train_size]\n",
    "drop_frac = 0.1\n",
    "\n",
    "conf_ranking = obs_df[confounder].rank(method=\"first\")\n",
    "keep =  ((obs_df.treatment == 1) & (conf_ranking > int(train_size * drop_frac))) | \\\n",
    "        ((obs_df.treatment == 0) & (conf_ranking < int(train_size * (1 - drop_frac))))\n",
    "obs_df = train_df[keep]\n",
    "print(\"Observational (naive) setup\")\n",
    "print_outcomes(obs_df)\n",
    "print(\"-------------\")\n",
    "exp_df = train_df.sample(n=obs_df.shape[0],random_state=42)\n",
    "print(\"Experimental setup\")\n",
    "print_outcomes(exp_df)\n",
    "print(\"-------------\")\n",
    "print(\"Entire data\")\n",
    "print_outcomes(df)"
   ]
  },
  {
   "cell_type": "markdown",
   "metadata": {},
   "source": [
    "Build causal tree using observational data. Control for observable confounding."
   ]
  },
  {
   "cell_type": "code",
   "execution_count": 7,
   "metadata": {},
   "outputs": [
    {
     "name": "stdout",
     "output_type": "stream",
     "text": [
      "--- Time to fit (and tune) causal tree 299.24438881874084 seconds ---\n"
     ]
    }
   ],
   "source": [
    "def fit_tree(df_causal, tree_type=CausalForest, min_samples_leaf=5000, tune=False, params=None, scoring=None, verbose=True):    \n",
    "    X = df_causal[limited_features + ['treatment']].rename(columns={\"treatment\":\"treated\"})\n",
    "    y =  df_causal.visit\n",
    "    # Fit and tune causal tree\n",
    "    start_time = time.time()\n",
    "    if tune:\n",
    "        if params is None:\n",
    "            params = range(1000, 10000, 1000)\n",
    "        tuned_parameters = [{'min_samples_leaf': params}]\n",
    "        grid_tree = GridSearchCV(tree_type(random_state=42, n_estimators=10), tuned_parameters, cv=4, \n",
    "                                 verbose=10, n_jobs=4, scoring=scoring)\n",
    "        grid_tree.fit(X, y)\n",
    "        print(\"Best parameters set found on development set:\")\n",
    "        print(grid_tree.best_params_)\n",
    "        tree_model = grid_tree.best_estimator_\n",
    "    else:\n",
    "        ### WARNING: if n_jobs is different from 1, the code breaks\n",
    "        tree_model = tree_type(min_samples_leaf=min_samples_leaf, random_state=42, n_estimators=10)\n",
    "        tree_model.fit(X, y)\n",
    "    if verbose:\n",
    "        print(\"--- Time to fit (and tune) causal tree %s seconds ---\" % (time.time() - start_time))\n",
    "    return tree_model\n",
    "\n",
    "#obs_tree = fit_tree(obs_df, tune=True, params=[8000, 16000, 32000, 64000, 128000])\n",
    "#Best parameters set found on development set:\n",
    "#{'min_samples_leaf': 32000}\n",
    "#--- Time to fit (and tune) causal tree 1082.7572462558746 seconds ---\n",
    "obs_tree = fit_tree(obs_df, min_samples_leaf=32000)"
   ]
  },
  {
   "cell_type": "markdown",
   "metadata": {},
   "source": [
    "Obtain evaluation data"
   ]
  },
  {
   "cell_type": "code",
   "execution_count": 8,
   "metadata": {},
   "outputs": [],
   "source": [
    "eval_df = df[train_size:].copy()"
   ]
  },
  {
   "cell_type": "markdown",
   "metadata": {},
   "source": [
    "Estimated average causal effect after accounting for observed confounding. "
   ]
  },
  {
   "cell_type": "code",
   "execution_count": 9,
   "metadata": {},
   "outputs": [
    {
     "name": "stdout",
     "output_type": "stream",
     "text": [
      "Observational ('smart') setup\n",
      "Estimated avg. effect: 2.89%\n"
     ]
    }
   ],
   "source": [
    "print(\"Observational ('smart') setup\")\n",
    "obs_preds = obs_tree.predict(eval_df[limited_features])\n",
    "obs_avg_effect = obs_preds.mean()\n",
    "print(f\"Estimated avg. effect: {np.round(obs_avg_effect*100, 2)}%\")"
   ]
  },
  {
   "cell_type": "markdown",
   "metadata": {},
   "source": [
    "# Approach 1: Domain Knowledge"
   ]
  },
  {
   "cell_type": "markdown",
   "metadata": {},
   "source": [
    "Suppose visit value is \\\\$ 0.50 and the cost is \\\\$ 0.01. How does the bias may affect ability to identify profitable customers?"
   ]
  },
  {
   "cell_type": "code",
   "execution_count": 10,
   "metadata": {},
   "outputs": [
    {
     "name": "stdout",
     "output_type": "stream",
     "text": [
      "Real benefit (compared with sensitivity analysis)\n",
      "------\n",
      "Observational\n",
      "Benefit ($) per 1 MM users: 1,753\n"
     ]
    }
   ],
   "source": [
    "visit_value = 0.49\n",
    "ad_cost = 0.01\n",
    "total_impressions = 1000000\n",
    "boundary = ad_cost/(visit_value+ad_cost)\n",
    "\n",
    "def get_avg_benefit(e_df, boundary=None):\n",
    "    if boundary is None:\n",
    "        boundary = ad_cost/(visit_value+ad_cost)\n",
    "    targeted = e_df.pred > boundary \n",
    "    avg_outcomes = e_df[targeted].groupby('treatment').visit.mean()\n",
    "    fraction = targeted.mean()\n",
    "    additional_visits = (avg_outcomes.loc[1] - avg_outcomes.loc[0]) * fraction \n",
    "    benefit = (additional_visits*visit_value - fraction*ad_cost)*total_impressions\n",
    "    print(f\"Benefit ($) per 1 MM users: {round(benefit):,}\")\n",
    "    return benefit\n",
    "\n",
    "print(\"Real benefit (compared with sensitivity analysis)\")\n",
    "print(\"------\")\n",
    "print(\"Observational\")\n",
    "eval_df['pred'] = obs_preds\n",
    "obs_benefit = get_avg_benefit(eval_df)"
   ]
  },
  {
   "cell_type": "markdown",
   "metadata": {},
   "source": [
    "Get cross-validation predictions."
   ]
  },
  {
   "cell_type": "code",
   "execution_count": 11,
   "metadata": {},
   "outputs": [
    {
     "name": "stderr",
     "output_type": "stream",
     "text": [
      "[Parallel(n_jobs=5)]: Using backend LokyBackend with 5 concurrent workers.\n",
      "[Parallel(n_jobs=5)]: Done   2 out of   5 | elapsed:  4.9min remaining:  7.3min\n",
      "[Parallel(n_jobs=5)]: Done   3 out of   5 | elapsed:  4.9min remaining:  3.3min\n",
      "[Parallel(n_jobs=5)]: Done   5 out of   5 | elapsed:  5.1min remaining:    0.0s\n",
      "[Parallel(n_jobs=5)]: Done   5 out of   5 | elapsed:  5.1min finished\n"
     ]
    }
   ],
   "source": [
    "X = obs_df[limited_features + ['treatment']].rename(columns={\"treatment\":\"treated\"})\n",
    "y =  obs_df.visit\n",
    "cross_preds = cross_val_predict(CausalForest(min_samples_leaf=obs_tree.min_samples_leaf, random_state=42, n_estimators=10), \n",
    "                                X, y, cv=5, verbose=10, n_jobs=5)"
   ]
  },
  {
   "cell_type": "code",
   "execution_count": 12,
   "metadata": {},
   "outputs": [
    {
     "data": {
      "text/plain": [
       "-56"
      ]
     },
     "execution_count": 12,
     "metadata": {},
     "output_type": "execute_result"
    }
   ],
   "source": [
    "targeted = cross_preds > boundary\n",
    "biased_avg_effect = obs_preds.mean()\n",
    "estimated_effects = obs_tree.predict(obs_df[limited_features])\n",
    "\n",
    "bias_size = 0.87\n",
    "real_size = (1-bias_size)\n",
    "additional_visits = ((estimated_effects * real_size) * targeted).mean()\n",
    "benefit =  round((additional_visits*visit_value - targeted.mean()*ad_cost)*total_impressions)\n",
    "benefit  "
   ]
  },
  {
   "cell_type": "markdown",
   "metadata": {},
   "source": [
    "Assess how much could the bias affect the decisions."
   ]
  },
  {
   "cell_type": "code",
   "execution_count": 13,
   "metadata": {},
   "outputs": [
    {
     "data": {
      "image/png": "[encoded data removed]",
      "text/plain": [
       "<Figure size 432x288 with 1 Axes>"
      ]
     },
     "metadata": {
      "needs_background": "light"
     },
     "output_type": "display_data"
    }
   ],
   "source": [
    "means = eval_df.groupby('treatment').visit.mean()\n",
    "avg_effect = means.loc[1]-means.loc[0]\n",
    "\n",
    "real_avg_bias = round(1 - avg_effect/biased_avg_effect, 2)\n",
    "\n",
    "bias_sizes = np.arange(11)/10\n",
    "benefits = []\n",
    "for bias_size in bias_sizes:\n",
    "    real_size = (1-bias_size)\n",
    "    additional_visits = ((estimated_effects * real_size) * targeted).mean()\n",
    "    benefit =  round((additional_visits*visit_value - targeted.mean()*ad_cost)*total_impressions)\n",
    "    benefits.append(benefit)\n",
    "\n",
    "figs = plt.plot(bias_sizes*100, benefits, label=\"Estimation (w. sensitivity analysis)\")\n",
    "plt.xlabel(\"Bias size (as % of estimated effect)\")\n",
    "plt.ylabel(\"Profit (per 1MM users)\")\n",
    "# Set Y axis\n",
    "fmt = '${x:,.0f}'\n",
    "tick = mtick.StrMethodFormatter(fmt)\n",
    "figs[0].axes.yaxis.set_major_formatter(tick)\n",
    "# Set X axis\n",
    "figs[0].axes.xaxis.set_major_formatter(mtick.PercentFormatter())\n",
    "# Break-even line\n",
    "plt.plot([0, 100], [0, 0], linestyle='--', color='black')\n",
    "plt.plot([real_avg_bias*100], [obs_benefit], marker=\"*\", label=\"Ground truth\")\n",
    "plt.legend()\n",
    "plt.savefig(\"sensitivity_analysis.png\", dpi=200, bbox_inches=\"tight\")"
   ]
  },
  {
   "cell_type": "markdown",
   "metadata": {},
   "source": [
    "# Approach 2: What if there is some experimental data?"
   ]
  },
  {
   "cell_type": "markdown",
   "metadata": {},
   "source": [
    "What's the best tree we could get with limited experimental data? "
   ]
  },
  {
   "cell_type": "code",
   "execution_count": 14,
   "metadata": {},
   "outputs": [
    {
     "name": "stdout",
     "output_type": "stream",
     "text": [
      "Fitting 4 folds for each of 10 candidates, totalling 40 fits\n",
      "Best parameters set found on development set:\n",
      "{'min_samples_leaf': 1000}\n",
      "--- Time to fit (and tune) causal tree 7.823261976242065 seconds ---\n"
     ]
    }
   ],
   "source": [
    "limited_exp = exp_df.sample(50000,random_state=42)\n",
    "limited_tree = fit_tree(limited_exp, tune=True, params=np.arange(1, 11)*1000)"
   ]
  },
  {
   "cell_type": "markdown",
   "metadata": {},
   "source": [
    "Compare each other. Experimental does better."
   ]
  },
  {
   "cell_type": "code",
   "execution_count": 8,
   "metadata": {},
   "outputs": [],
   "source": [
    "means = eval_df.groupby('treatment').visit.mean()\n",
    "avg_effect = means.loc[1]-means.loc[0]\n",
    "total_impressions = 1000000\n",
    "size = 100\n",
    "\n",
    "def plot_random(e_df):\n",
    "    means = e_df.groupby('treatment').visit.mean()\n",
    "    avg_effect = means.loc[1]-means.loc[0]\n",
    "    fractions = (np.arange(size)+1)/size\n",
    "    plt.plot(fractions*100, fractions*avg_effect*total_impressions, \n",
    "             color='black', linestyle='dashed', label=\"Random targeting\")\n",
    "    plt.legend()\n",
    "\n",
    "def evaluate(e_df, title):\n",
    "    e_df = e_df.sort_values('pred', ascending=False)\n",
    "    cum_per = np.arange(e_df.shape[0]) / e_df.shape[0]\n",
    "    fractions = []\n",
    "    effects = []\n",
    "    for i in range(size):\n",
    "        targeted = cum_per < (i+1)/size\n",
    "        fraction = targeted.mean()\n",
    "        avg_outcomes = e_df[targeted].groupby('treatment').visit.mean()\n",
    "        effect = (avg_outcomes.loc[1] - avg_outcomes.loc[0]) * fraction * total_impressions\n",
    "        fractions.append(fraction)\n",
    "        effects.append(effect)\n",
    "    figs = plt.plot(np.array(fractions)*100, effects, label=title)\n",
    "    plt.xlabel(\"% of users targeted\")\n",
    "    plt.ylabel(\"Increase in visits (per 1MM users)\")\n",
    "    # Set Y axis\n",
    "    fmt = '{x:,.0f}'\n",
    "    tick = mtick.StrMethodFormatter(fmt)\n",
    "    figs[0].axes.yaxis.set_major_formatter(tick)\n",
    "    # Set X axis\n",
    "    figs[0].axes.xaxis.set_major_formatter(mtick.PercentFormatter())\n",
    "    plt.legend()"
   ]
  },
  {
   "cell_type": "code",
   "execution_count": 16,
   "metadata": {},
   "outputs": [
    {
     "name": "stderr",
     "output_type": "stream",
     "text": [
      "[Parallel(n_jobs=1)]: Using backend SequentialBackend with 1 concurrent workers.\n",
      "[Parallel(n_jobs=1)]: Done   1 out of   1 | elapsed:    0.4s remaining:    0.0s\n",
      "[Parallel(n_jobs=1)]: Done   2 out of   2 | elapsed:    0.9s remaining:    0.0s\n",
      "[Parallel(n_jobs=1)]: Done   3 out of   3 | elapsed:    1.4s remaining:    0.0s\n",
      "[Parallel(n_jobs=1)]: Done   4 out of   4 | elapsed:    2.0s remaining:    0.0s\n",
      "[Parallel(n_jobs=1)]: Done   5 out of   5 | elapsed:    2.5s remaining:    0.0s\n",
      "[Parallel(n_jobs=1)]: Done   6 out of   6 | elapsed:    3.0s remaining:    0.0s\n",
      "[Parallel(n_jobs=1)]: Done   7 out of   7 | elapsed:    3.6s remaining:    0.0s\n",
      "[Parallel(n_jobs=1)]: Done   8 out of   8 | elapsed:    4.2s remaining:    0.0s\n",
      "[Parallel(n_jobs=1)]: Done   9 out of   9 | elapsed:    4.7s remaining:    0.0s\n",
      "[Parallel(n_jobs=1)]: Done  10 out of  10 | elapsed:    5.2s finished\n"
     ]
    },
    {
     "data": {
      "image/png": "[encoded data removed]",
      "text/plain": [
       "<Figure size 432x288 with 1 Axes>"
      ]
     },
     "metadata": {
      "needs_background": "light"
     },
     "output_type": "display_data"
    }
   ],
   "source": [
    "X = limited_exp[limited_features + ['treatment']].rename(columns={\"treatment\":\"treated\"})\n",
    "y =  limited_exp.visit\n",
    "exp_cross_preds = cross_val_predict(CausalForest(min_samples_leaf=limited_tree.min_samples_leaf, random_state=42, \n",
    "                                                 n_estimators=10), X, y, cv=10, verbose=10)\n",
    "\n",
    "copy_exp_df = limited_exp.copy()\n",
    "size=30\n",
    "copy_exp_df['pred'] = obs_tree.predict(copy_exp_df[limited_features])\n",
    "evaluate(copy_exp_df, \"Observational model\")\n",
    "copy_exp_df['pred'] = exp_cross_preds\n",
    "evaluate(copy_exp_df, \"Experimental model\")\n",
    "plot_random(copy_exp_df)\n",
    "plt.xlim(left=0)\n",
    "plt.savefig(\"eval_comparison.png\", dpi=200, bbox_inches=\"tight\")"
   ]
  },
  {
   "cell_type": "markdown",
   "metadata": {},
   "source": [
    "Average effect estimated by the experimental tree."
   ]
  },
  {
   "cell_type": "code",
   "execution_count": 17,
   "metadata": {},
   "outputs": [
    {
     "data": {
      "text/plain": [
       "1.2585032074228768"
      ]
     },
     "execution_count": 17,
     "metadata": {},
     "output_type": "execute_result"
    }
   ],
   "source": [
    "exp_cross_preds.mean() * 100"
   ]
  },
  {
   "cell_type": "markdown",
   "metadata": {},
   "source": [
    "Benefit evaluation"
   ]
  },
  {
   "cell_type": "code",
   "execution_count": 18,
   "metadata": {},
   "outputs": [
    {
     "name": "stdout",
     "output_type": "stream",
     "text": [
      "Observational\n",
      "Benefit ($) per 1 MM users: 3,742\n",
      "Experimental\n",
      "Benefit ($) per 1 MM users: 3,130\n"
     ]
    }
   ],
   "source": [
    "print(\"Observational\")\n",
    "copy_exp_df['pred'] = obs_tree.predict(copy_exp_df[limited_features])\n",
    "obs_benefit = get_avg_benefit(copy_exp_df)\n",
    "print(\"Experimental\")\n",
    "copy_exp_df['pred'] = exp_cross_preds\n",
    "exp_benefit = get_avg_benefit(copy_exp_df)"
   ]
  },
  {
   "cell_type": "code",
   "execution_count": 19,
   "metadata": {},
   "outputs": [
    {
     "name": "stdout",
     "output_type": "stream",
     "text": [
      "Observational\n",
      "Benefit ($) per 1 MM users: 1,753\n",
      "Experimental\n",
      "Benefit ($) per 1 MM users: 1,598\n"
     ]
    }
   ],
   "source": [
    "print(\"Observational\")\n",
    "eval_df['pred'] = obs_preds\n",
    "obs_benefit = get_avg_benefit(eval_df)\n",
    "print(\"Experimental\")\n",
    "eval_df['pred'] = limited_tree.predict(eval_df[limited_features])\n",
    "exp_benefit = get_avg_benefit(eval_df)"
   ]
  },
  {
   "cell_type": "markdown",
   "metadata": {},
   "source": [
    "# Approach 3: What if we can invest in data?"
   ]
  },
  {
   "cell_type": "code",
   "execution_count": null,
   "metadata": {},
   "outputs": [],
   "source": [
    "#eval_df['pred'] = obs_tree.predict(eval_df[limited_features])\n",
    "#obs_benefit = get_avg_benefit(eval_df)\n",
    "improvements = []\n",
    "curve_sizes = np.array([25000, 50000, 100000, 200000, 400000])\n",
    "for exp_size in curve_sizes:\n",
    "    print(f\"Experimental data size: {exp_size}\")\n",
    "    subset_exp = exp_df.sample(exp_size,random_state=42)\n",
    "    subset_tree = fit_tree(subset_exp, tune=False, min_samples_leaf=limited_tree.min_samples_leaf)\n",
    "    eval_df['pred'] = subset_tree.predict(eval_df[limited_features])\n",
    "    exp_benefit = get_avg_benefit(eval_df)\n",
    "    #improvement = 100 * (exp_benefit/obs_benefit - 1)\n",
    "    print(f\"Improvement: {improvement}\")\n",
    "    #improvements.append(improvement)\n",
    "#improvements = np.array(improvements)"
   ]
  },
  {
   "cell_type": "code",
   "execution_count": null,
   "metadata": {},
   "outputs": [],
   "source": [
    "eval_df['pred'] = 1\n",
    "avg_benefit = get_avg_benefit(eval_df)"
   ]
  },
  {
   "cell_type": "code",
   "execution_count": null,
   "metadata": {},
   "outputs": [],
   "source": [
    "breakevens = []\n",
    "for size in curve_sizes[2:]:\n",
    "    invested_size = size - curve_sizes[1]\n",
    "    inference_size = eval_df.shape[0] - invested_size\n",
    "    breakeven = 100 * (obs_benefit - avg_benefit) * invested_size / (inference_size * obs_benefit)\n",
    "    breakevens.append(breakeven)\n",
    "    print(breakeven)"
   ]
  },
  {
   "cell_type": "code",
   "execution_count": null,
   "metadata": {},
   "outputs": [],
   "source": [
    "labels = ['25k', '50k', '100k', '200k', '400k']\n",
    "plt.plot(labels, [0, 0] + breakevens, color='black', linestyle='dashed', label=\"Break-even improvement\")\n",
    "plt.plot(labels, improvements[:2].tolist() + [None, None, None], color='tab:orange', label=\"Learning curve, current data\")\n",
    "plt.plot(labels, [None] + improvements[1:].tolist(), color='tab:orange', linestyle='dotted', label=\"Learning curve, more data\")\n",
    "plt.gca().set_yticklabels(['{:.0f}%'.format(x) for x in plt.gca().get_yticks()])\n",
    "plt.ylabel(\"Improvement of EM over OM\")\n",
    "plt.xlabel(\"Size of the experimental data\")\n",
    "plt.legend(loc='lower right')\n",
    "plt.savefig(\"learning_curve.png\", dpi=200, bbox_inches=\"tight\")"
   ]
  },
  {
   "cell_type": "markdown",
   "metadata": {},
   "source": [
    "# Confidence Intervals"
   ]
  },
  {
   "cell_type": "code",
   "execution_count": 27,
   "metadata": {},
   "outputs": [
    {
     "name": "stdout",
     "output_type": "stream",
     "text": [
      "Naive confounded: 4.08%\n",
      "S.E.: 0.03%\n",
      "Ground truth: 1.03%\n",
      "S.E.: 0.03%\n"
     ]
    }
   ],
   "source": [
    "visits = obs_df.groupby('treatment').visit.mean()\n",
    "counts = obs_df.groupby('treatment').visit.count()\n",
    "variances = obs_df.groupby('treatment').visit.var()\n",
    "print(f\"Naive confounded: {(visits[1] - visits[0])*100:.2f}%\")\n",
    "print(f\"S.E.: {np.sqrt((variances/counts).sum())*100*1.96:.2f}%\")\n",
    "###################\n",
    "visits = df.groupby('treatment').visit.mean()\n",
    "counts = df.groupby('treatment').visit.count()\n",
    "variances = df.groupby('treatment').visit.var()\n",
    "print(f\"Ground truth: {(visits[1] - visits[0])*100:.2f}%\")\n",
    "print(f\"S.E.: {np.sqrt((variances/counts).sum())*100*1.96:.2f}%\")"
   ]
  },
  {
   "cell_type": "markdown",
   "metadata": {},
   "source": [
    "Bootstrapping the experimental model."
   ]
  },
  {
   "cell_type": "code",
   "execution_count": 22,
   "metadata": {
    "scrolled": true
   },
   "outputs": [
    {
     "name": "stdout",
     "output_type": "stream",
     "text": [
      "0\n",
      "--- Time to fit (and tune) causal tree 0.54060959815979 seconds ---\n",
      "1\n",
      "--- Time to fit (and tune) causal tree 0.5220036506652832 seconds ---\n",
      "2\n",
      "--- Time to fit (and tune) causal tree 0.5136191844940186 seconds ---\n",
      "3\n",
      "--- Time to fit (and tune) causal tree 0.5373034477233887 seconds ---\n",
      "4\n",
      "--- Time to fit (and tune) causal tree 0.4933624267578125 seconds ---\n",
      "5\n",
      "--- Time to fit (and tune) causal tree 0.5362660884857178 seconds ---\n",
      "6\n",
      "--- Time to fit (and tune) causal tree 0.4797847270965576 seconds ---\n",
      "7\n",
      "--- Time to fit (and tune) causal tree 0.5348711013793945 seconds ---\n",
      "8\n",
      "--- Time to fit (and tune) causal tree 0.5634500980377197 seconds ---\n",
      "9\n",
      "--- Time to fit (and tune) causal tree 0.6456456184387207 seconds ---\n",
      "10\n",
      "--- Time to fit (and tune) causal tree 0.5517866611480713 seconds ---\n",
      "11\n",
      "--- Time to fit (and tune) causal tree 0.5633797645568848 seconds ---\n",
      "12\n",
      "--- Time to fit (and tune) causal tree 0.5730924606323242 seconds ---\n",
      "13\n",
      "--- Time to fit (and tune) causal tree 0.5725953578948975 seconds ---\n",
      "14\n",
      "--- Time to fit (and tune) causal tree 0.5448894500732422 seconds ---\n",
      "15\n",
      "--- Time to fit (and tune) causal tree 0.5260708332061768 seconds ---\n",
      "16\n",
      "--- Time to fit (and tune) causal tree 0.5704500675201416 seconds ---\n",
      "17\n",
      "--- Time to fit (and tune) causal tree 0.56109619140625 seconds ---\n",
      "18\n",
      "--- Time to fit (and tune) causal tree 0.5695464611053467 seconds ---\n",
      "19\n",
      "--- Time to fit (and tune) causal tree 0.5839443206787109 seconds ---\n",
      "20\n",
      "--- Time to fit (and tune) causal tree 0.5107896327972412 seconds ---\n",
      "21\n",
      "--- Time to fit (and tune) causal tree 0.53023362159729 seconds ---\n",
      "22\n",
      "--- Time to fit (and tune) causal tree 0.5461065769195557 seconds ---\n",
      "23\n",
      "--- Time to fit (and tune) causal tree 0.5520026683807373 seconds ---\n",
      "24\n",
      "--- Time to fit (and tune) causal tree 0.5793194770812988 seconds ---\n",
      "25\n",
      "--- Time to fit (and tune) causal tree 0.5647275447845459 seconds ---\n",
      "26\n",
      "--- Time to fit (and tune) causal tree 0.5175950527191162 seconds ---\n",
      "27\n",
      "--- Time to fit (and tune) causal tree 0.550518274307251 seconds ---\n",
      "28\n",
      "--- Time to fit (and tune) causal tree 0.5198016166687012 seconds ---\n",
      "29\n",
      "--- Time to fit (and tune) causal tree 0.514962911605835 seconds ---\n",
      "30\n",
      "--- Time to fit (and tune) causal tree 0.5364565849304199 seconds ---\n",
      "31\n",
      "--- Time to fit (and tune) causal tree 0.5101237297058105 seconds ---\n",
      "32\n",
      "--- Time to fit (and tune) causal tree 0.5358319282531738 seconds ---\n",
      "33\n",
      "--- Time to fit (and tune) causal tree 0.5028729438781738 seconds ---\n",
      "34\n",
      "--- Time to fit (and tune) causal tree 0.5397865772247314 seconds ---\n",
      "35\n",
      "--- Time to fit (and tune) causal tree 0.5636727809906006 seconds ---\n",
      "36\n",
      "--- Time to fit (and tune) causal tree 0.5289006233215332 seconds ---\n",
      "37\n",
      "--- Time to fit (and tune) causal tree 0.4763667583465576 seconds ---\n",
      "38\n",
      "--- Time to fit (and tune) causal tree 0.51802659034729 seconds ---\n",
      "39\n",
      "--- Time to fit (and tune) causal tree 0.54203200340271 seconds ---\n",
      "40\n",
      "--- Time to fit (and tune) causal tree 0.5553483963012695 seconds ---\n",
      "41\n",
      "--- Time to fit (and tune) causal tree 0.552605152130127 seconds ---\n",
      "42\n",
      "--- Time to fit (and tune) causal tree 0.5331368446350098 seconds ---\n",
      "43\n",
      "--- Time to fit (and tune) causal tree 0.5055603981018066 seconds ---\n",
      "44\n",
      "--- Time to fit (and tune) causal tree 0.575232982635498 seconds ---\n",
      "45\n",
      "--- Time to fit (and tune) causal tree 0.5210537910461426 seconds ---\n",
      "46\n",
      "--- Time to fit (and tune) causal tree 0.49537134170532227 seconds ---\n",
      "47\n",
      "--- Time to fit (and tune) causal tree 0.5080835819244385 seconds ---\n",
      "48\n",
      "--- Time to fit (and tune) causal tree 0.4928748607635498 seconds ---\n",
      "49\n",
      "--- Time to fit (and tune) causal tree 0.5742006301879883 seconds ---\n",
      "50\n",
      "--- Time to fit (and tune) causal tree 0.5381550788879395 seconds ---\n",
      "51\n",
      "--- Time to fit (and tune) causal tree 0.5761127471923828 seconds ---\n",
      "52\n",
      "--- Time to fit (and tune) causal tree 0.5319650173187256 seconds ---\n",
      "53\n",
      "--- Time to fit (and tune) causal tree 0.5466518402099609 seconds ---\n",
      "54\n",
      "--- Time to fit (and tune) causal tree 0.48631954193115234 seconds ---\n",
      "55\n",
      "--- Time to fit (and tune) causal tree 0.5114431381225586 seconds ---\n",
      "56\n",
      "--- Time to fit (and tune) causal tree 0.5246810913085938 seconds ---\n",
      "57\n",
      "--- Time to fit (and tune) causal tree 0.5215656757354736 seconds ---\n",
      "58\n",
      "--- Time to fit (and tune) causal tree 0.5084686279296875 seconds ---\n",
      "59\n",
      "--- Time to fit (and tune) causal tree 0.5699863433837891 seconds ---\n",
      "60\n",
      "--- Time to fit (and tune) causal tree 0.5367536544799805 seconds ---\n",
      "61\n",
      "--- Time to fit (and tune) causal tree 0.5147018432617188 seconds ---\n",
      "62\n",
      "--- Time to fit (and tune) causal tree 0.5439779758453369 seconds ---\n",
      "63\n",
      "--- Time to fit (and tune) causal tree 0.4864785671234131 seconds ---\n",
      "64\n",
      "--- Time to fit (and tune) causal tree 0.5280086994171143 seconds ---\n",
      "65\n",
      "--- Time to fit (and tune) causal tree 0.5177597999572754 seconds ---\n",
      "66\n",
      "--- Time to fit (and tune) causal tree 0.5766117572784424 seconds ---\n",
      "67\n",
      "--- Time to fit (and tune) causal tree 0.4987308979034424 seconds ---\n",
      "68\n",
      "--- Time to fit (and tune) causal tree 0.5505228042602539 seconds ---\n",
      "69\n",
      "--- Time to fit (and tune) causal tree 0.5246601104736328 seconds ---\n",
      "70\n",
      "--- Time to fit (and tune) causal tree 0.57588791847229 seconds ---\n",
      "71\n",
      "--- Time to fit (and tune) causal tree 0.5257821083068848 seconds ---\n",
      "72\n",
      "--- Time to fit (and tune) causal tree 0.5598008632659912 seconds ---\n",
      "73\n",
      "--- Time to fit (and tune) causal tree 0.5321013927459717 seconds ---\n",
      "74\n",
      "--- Time to fit (and tune) causal tree 0.5177807807922363 seconds ---\n",
      "75\n",
      "--- Time to fit (and tune) causal tree 0.5368287563323975 seconds ---\n",
      "76\n",
      "--- Time to fit (and tune) causal tree 0.5117111206054688 seconds ---\n",
      "77\n",
      "--- Time to fit (and tune) causal tree 0.5498309135437012 seconds ---\n",
      "78\n",
      "--- Time to fit (and tune) causal tree 0.5831699371337891 seconds ---\n",
      "79\n",
      "--- Time to fit (and tune) causal tree 0.5064387321472168 seconds ---\n",
      "80\n",
      "--- Time to fit (and tune) causal tree 0.5413253307342529 seconds ---\n",
      "81\n",
      "--- Time to fit (and tune) causal tree 0.5011541843414307 seconds ---\n",
      "82\n",
      "--- Time to fit (and tune) causal tree 0.4973635673522949 seconds ---\n",
      "83\n",
      "--- Time to fit (and tune) causal tree 0.5210287570953369 seconds ---\n",
      "84\n",
      "--- Time to fit (and tune) causal tree 0.5145721435546875 seconds ---\n",
      "85\n",
      "--- Time to fit (and tune) causal tree 0.5130875110626221 seconds ---\n",
      "86\n",
      "--- Time to fit (and tune) causal tree 0.5425910949707031 seconds ---\n",
      "87\n",
      "--- Time to fit (and tune) causal tree 0.4852001667022705 seconds ---\n",
      "88\n",
      "--- Time to fit (and tune) causal tree 0.5183405876159668 seconds ---\n",
      "89\n",
      "--- Time to fit (and tune) causal tree 0.5004024505615234 seconds ---\n",
      "90\n",
      "--- Time to fit (and tune) causal tree 0.570366621017456 seconds ---\n",
      "91\n",
      "--- Time to fit (and tune) causal tree 0.49765658378601074 seconds ---\n",
      "92\n",
      "--- Time to fit (and tune) causal tree 0.5313210487365723 seconds ---\n",
      "93\n",
      "--- Time to fit (and tune) causal tree 0.5015795230865479 seconds ---\n",
      "94\n",
      "--- Time to fit (and tune) causal tree 0.5261986255645752 seconds ---\n",
      "95\n",
      "--- Time to fit (and tune) causal tree 0.656998872756958 seconds ---\n",
      "96\n",
      "--- Time to fit (and tune) causal tree 0.5049057006835938 seconds ---\n",
      "97\n",
      "--- Time to fit (and tune) causal tree 0.5580770969390869 seconds ---\n",
      "98\n",
      "--- Time to fit (and tune) causal tree 0.5560235977172852 seconds ---\n",
      "99\n",
      "--- Time to fit (and tune) causal tree 0.6010100841522217 seconds ---\n"
     ]
    }
   ],
   "source": [
    "from sklearn.utils import resample\n",
    "\n",
    "bootstrap_size = 100\n",
    "results = []\n",
    "for i in range(bootstrap_size):\n",
    "    print(i)\n",
    "    data = resample(limited_exp, replace=True, random_state=i)\n",
    "    tree = fit_tree(data, tune=False, min_samples_leaf=limited_tree.min_samples_leaf)\n",
    "    result = tree.predict(data[limited_features]).mean()\n",
    "    results.append(result)"
   ]
  },
  {
   "cell_type": "code",
   "execution_count": 23,
   "metadata": {},
   "outputs": [
    {
     "name": "stdout",
     "output_type": "stream",
     "text": [
      "Unconfounded model: 1.37%\n",
      "Unconfounded model (SE): 0.43%\n"
     ]
    },
    {
     "data": {
      "image/png": "[encoded data removed]",
      "text/plain": [
       "<Figure size 432x288 with 1 Axes>"
      ]
     },
     "metadata": {
      "needs_background": "light"
     },
     "output_type": "display_data"
    }
   ],
   "source": [
    "pd.Series(results).hist()\n",
    "print(f\"Unconfounded model: {np.mean(results)*100:.2f}%\")\n",
    "print(f\"Unconfounded model (SE): {np.std(results)*100*1.96:.2f}%\")"
   ]
  },
  {
   "cell_type": "code",
   "execution_count": 9,
   "metadata": {},
   "outputs": [
    {
     "name": "stdout",
     "output_type": "stream",
     "text": [
      "0\n",
      "--- Time to fit (and tune) causal tree 208.7095718383789 seconds ---\n",
      "1\n",
      "--- Time to fit (and tune) causal tree 357.01459646224976 seconds ---\n",
      "2\n",
      "--- Time to fit (and tune) causal tree 353.66125321388245 seconds ---\n",
      "3\n",
      "--- Time to fit (and tune) causal tree 186.21985268592834 seconds ---\n",
      "4\n",
      "--- Time to fit (and tune) causal tree 196.14847135543823 seconds ---\n",
      "5\n",
      "--- Time to fit (and tune) causal tree 202.83232879638672 seconds ---\n",
      "6\n",
      "--- Time to fit (and tune) causal tree 190.43830251693726 seconds ---\n",
      "7\n",
      "--- Time to fit (and tune) causal tree 188.8630712032318 seconds ---\n",
      "8\n",
      "--- Time to fit (and tune) causal tree 197.38664031028748 seconds ---\n",
      "9\n",
      "--- Time to fit (and tune) causal tree 193.81672048568726 seconds ---\n"
     ]
    }
   ],
   "source": [
    "bootstrap_size = 10\n",
    "results = []\n",
    "for i in range(bootstrap_size):\n",
    "    print(i)\n",
    "    data = resample(obs_df, replace=True, random_state=i)\n",
    "    #tree = fit_tree(data, tune=False, min_samples_leaf=obs_tree.min_samples_leaf)\n",
    "    tree = fit_tree(data, tune=False, min_samples_leaf=32000)\n",
    "    result = tree.predict(data[limited_features]).mean()\n",
    "    results.append(result)"
   ]
  },
  {
   "cell_type": "code",
   "execution_count": 14,
   "metadata": {},
   "outputs": [
    {
     "data": {
      "text/plain": [
       "<AxesSubplot:>"
      ]
     },
     "execution_count": 14,
     "metadata": {},
     "output_type": "execute_result"
    },
    {
     "data": {
      "image/png": "[encoded data removed]",
      "text/plain": [
       "<Figure size 432x288 with 1 Axes>"
      ]
     },
     "metadata": {
      "needs_background": "light"
     },
     "output_type": "display_data"
    }
   ],
   "source": [
    "pd.Series(results).hist()"
   ]
  },
  {
   "cell_type": "code",
   "execution_count": 21,
   "metadata": {},
   "outputs": [
    {
     "name": "stdout",
     "output_type": "stream",
     "text": [
      "Confounded model: 2.85%\n",
      "Confounded model S.E.: 0.07%\n"
     ]
    }
   ],
   "source": [
    "print(f\"Confounded model: {pd.Series(results).mean()*100:.2f}%\")\n",
    "print(f\"Confounded model S.E.: {pd.Series(results).std()*100*1.96:.2f}%\")"
   ]
  },
  {
   "cell_type": "code",
   "execution_count": null,
   "metadata": {},
   "outputs": [],
   "source": []
  }
 ],
 "metadata": {
  "anaconda-cloud": {},
  "kernelspec": {
   "display_name": "Python 3",
   "language": "python",
   "name": "python3"
  },
  "language_info": {
   "codemirror_mode": {
    "name": "ipython",
    "version": 3
   },
   "file_extension": ".py",
   "mimetype": "text/x-python",
   "name": "python",
   "nbconvert_exporter": "python",
   "pygments_lexer": "ipython3",
   "version": "3.8.8"
  }
 },
 "nbformat": 4,
 "nbformat_minor": 2
}
