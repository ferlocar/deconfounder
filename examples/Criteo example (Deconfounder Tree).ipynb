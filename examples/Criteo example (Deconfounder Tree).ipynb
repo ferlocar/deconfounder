{
 "cells": [
  {
   "cell_type": "markdown",
   "metadata": {},
   "source": [
    "Load data."
   ]
  },
  {
   "cell_type": "code",
   "execution_count": 1,
   "metadata": {},
   "outputs": [],
   "source": [
    "### LINES TO IMPORT THE DECONFOUNDER PACKAGE IN THE PARENT FOLDER ###\n",
    "import os\n",
    "import sys\n",
    "sys.path.append(\"..\")\n",
    "### IMPORTS\n",
    "from deconfounder.causal_tree import CausalTree\n",
    "from deconfounder.deconfounder_tree import DeconfounderTree\n",
    "import matplotlib.pyplot as plt\n",
    "import numpy as np\n",
    "from numpy.polynomial.polynomial import polyfit\n",
    "import pandas as pd\n",
    "import scipy.stats as st\n",
    "from sklearn.model_selection import train_test_split\n",
    "from sklearn.model_selection import GridSearchCV\n",
    "import time\n",
    "\n",
    "# Load data\n",
    "df = pd.read_csv(\"../data/criteo-uplift-v2.1.csv\")\n",
    "df = df.sample(frac=1, random_state=42)"
   ]
  },
  {
   "cell_type": "markdown",
   "metadata": {},
   "source": [
    "Test the treatment was randomly assigned (according to the F-statistic, it appears it was not)."
   ]
  },
  {
   "cell_type": "code",
   "execution_count": 2,
   "metadata": {},
   "outputs": [
    {
     "name": "stderr",
     "output_type": "stream",
     "text": [
      "C:\\Users\\ferlo\\Anaconda3\\envs\\deconfounder\\lib\\site-packages\\numpy\\core\\fromnumeric.py:2389: FutureWarning: Method .ptp is deprecated and will be removed in a future version. Use numpy.ptp instead.\n",
      "  return ptp(axis=axis, out=out, **kwargs)\n"
     ]
    },
    {
     "name": "stdout",
     "output_type": "stream",
     "text": [
      "                            OLS Regression Results                            \n",
      "==============================================================================\n",
      "Dep. Variable:              treatment   R-squared:                       0.000\n",
      "Model:                            OLS   Adj. R-squared:                  0.000\n",
      "Method:                 Least Squares   F-statistic:                     428.5\n",
      "Date:                Sun, 23 Aug 2020   Prob (F-statistic):               0.00\n",
      "Time:                        14:05:02   Log-Likelihood:            -5.4372e+06\n",
      "No. Observations:            13979592   AIC:                         1.087e+07\n",
      "Df Residuals:                13979579   BIC:                         1.087e+07\n",
      "Df Model:                          12                                         \n",
      "Covariance Type:            nonrobust                                         \n",
      "==============================================================================\n",
      "                 coef    std err          t      P>|t|      [0.025      0.975]\n",
      "------------------------------------------------------------------------------\n",
      "const          0.9932      0.024     41.992      0.000       0.947       1.040\n",
      "f0         -2.249e-05   2.67e-05     -0.843      0.399   -7.48e-05    2.98e-05\n",
      "f1             0.0028      0.001      2.123      0.034       0.000       0.005\n",
      "f2            -0.0032      0.000     -6.699      0.000      -0.004      -0.002\n",
      "f3            -0.0029      0.000    -27.405      0.000      -0.003      -0.003\n",
      "f4            -0.0053      0.001     -9.224      0.000      -0.006      -0.004\n",
      "f5            -0.0032      0.000     -6.810      0.000      -0.004      -0.002\n",
      "f6            -0.0005   3.12e-05    -15.384      0.000      -0.001      -0.000\n",
      "f7         -1.748e-05      0.000     -0.126      0.900      -0.000       0.000\n",
      "f8            -0.0243      0.004     -6.800      0.000      -0.031      -0.017\n",
      "f9          8.995e-05   2.67e-05      3.368      0.001    3.76e-05       0.000\n",
      "f10            0.0052      0.001      5.995      0.000       0.004       0.007\n",
      "f11           -0.0009      0.007     -0.137      0.891      -0.014       0.012\n",
      "==============================================================================\n",
      "Omnibus:                  4610452.701   Durbin-Watson:                   2.001\n",
      "Prob(Omnibus):                  0.000   Jarque-Bera (JB):         10919143.046\n",
      "Skew:                          -1.959   Prob(JB):                         0.00\n",
      "Kurtosis:                       4.841   Cond. No.                     8.14e+03\n",
      "==============================================================================\n",
      "\n",
      "Warnings:\n",
      "[1] Standard Errors assume that the covariance matrix of the errors is correctly specified.\n",
      "[2] The condition number is large, 8.14e+03. This might indicate that there are\n",
      "strong multicollinearity or other numerical problems.\n"
     ]
    }
   ],
   "source": [
    "import statsmodels.api as sm\n",
    "\n",
    "all_features = df.columns.values[:12].tolist()\n",
    "X = sm.add_constant(df[all_features])\n",
    "y = df.treatment\n",
    "model = sm.OLS(y, X)\n",
    "results = model.fit()\n",
    "print(results.summary())"
   ]
  },
  {
   "cell_type": "markdown",
   "metadata": {},
   "source": [
    "We will use an experimental size of 50,000: it has a significance level of 0.1%."
   ]
  },
  {
   "cell_type": "code",
   "execution_count": 3,
   "metadata": {},
   "outputs": [
    {
     "name": "stdout",
     "output_type": "stream",
     "text": [
      "Average effect (entire sample): 1.03%\n",
      "Standard error with sample size of 50,000: 0.24%\n",
      "p-value: 0.0\n"
     ]
    }
   ],
   "source": [
    "exp_size = 50000\n",
    "treated_ratio = 0.85 # same as in data\n",
    "means = df.groupby('treatment').visit.mean()\n",
    "variances = df.groupby('treatment').visit.var()\n",
    "standard_error = np.sqrt(variances[1]/(exp_size*treated_ratio) + variances[0]/(exp_size*(1-treated_ratio)))\n",
    "avg_effect = (means[1] - means[0])\n",
    "p_value = (st.norm.cdf(-avg_effect/standard_error))*2\n",
    "print(f\"Average effect (entire sample): {round(avg_effect*100, 2)}%\")\n",
    "print(f\"Standard error with sample size of {exp_size:,}: {round(standard_error*100, 2)}%\")\n",
    "print(f\"p-value: {round(p_value, 4)}\")"
   ]
  },
  {
   "cell_type": "markdown",
   "metadata": {},
   "source": [
    "Obtain experimental data."
   ]
  },
  {
   "cell_type": "code",
   "execution_count": 4,
   "metadata": {},
   "outputs": [
    {
     "name": "stdout",
     "output_type": "stream",
     "text": [
      "Avg. Outcome (treated): 4.86%\n",
      "Avg. Outcome (control): 4.06%\n",
      "Estimated avg. effect: 0.8%\n"
     ]
    }
   ],
   "source": [
    "def print_outcomes(data):\n",
    "    means = data.groupby('treatment').visit.mean()\n",
    "    print(f\"Avg. Outcome (treated): {np.round(means.loc[1]*100, 2)}%\")\n",
    "    print(f\"Avg. Outcome (control): {np.round(means.loc[0]*100, 2)}%\")\n",
    "    print(f\"Estimated avg. effect: {np.round((means.loc[1]-means.loc[0])*100, 2)}%\")\n",
    "\n",
    "exp_df = df[0:exp_size]\n",
    "print_outcomes(exp_df)"
   ]
  },
  {
   "cell_type": "markdown",
   "metadata": {},
   "source": [
    "Find the feature that is correlated the most with the outcome and remove that feature (i.e., the confounder)."
   ]
  },
  {
   "cell_type": "code",
   "execution_count": 5,
   "metadata": {},
   "outputs": [
    {
     "name": "stdout",
     "output_type": "stream",
     "text": [
      "f9\n"
     ]
    }
   ],
   "source": [
    "corr_matrix = df[all_features + ['visit']].corr()\n",
    "confounder = corr_matrix['visit'][:-1].sort_values().index.values[-1]\n",
    "print(confounder)\n",
    "limited_features = list(all_features)\n",
    "limited_features.remove(confounder)"
   ]
  },
  {
   "cell_type": "markdown",
   "metadata": {},
   "source": [
    "Obtain observational data. Drop observations using the confounder."
   ]
  },
  {
   "cell_type": "code",
   "execution_count": 6,
   "metadata": {},
   "outputs": [
    {
     "name": "stdout",
     "output_type": "stream",
     "text": [
      "Size of observational data: 6,297,527\n",
      "Avg. Outcome (treated): 5.31%\n",
      "Avg. Outcome (control): 1.23%\n",
      "Estimated avg. effect: 4.08%\n"
     ]
    }
   ],
   "source": [
    "train_frac = 0.5\n",
    "train_size = int(df.shape[0]*train_frac)\n",
    "obs_df = df[:train_size]\n",
    "drop_frac = 0.1\n",
    "\n",
    "conf_ranking = obs_df[confounder].rank(method=\"first\")\n",
    "keep =  ((obs_df.treatment == 1) & (conf_ranking > int(train_size * drop_frac))) | \\\n",
    "        ((obs_df.treatment == 0) & (conf_ranking < int(train_size * (1 - drop_frac))))\n",
    "obs_df = obs_df[keep]\n",
    "print(f\"Size of observational data: {obs_df.shape[0]:,}\")\n",
    "print_outcomes(obs_df)"
   ]
  },
  {
   "cell_type": "markdown",
   "metadata": {},
   "source": [
    "Obtain evaluation data"
   ]
  },
  {
   "cell_type": "code",
   "execution_count": 7,
   "metadata": {},
   "outputs": [],
   "source": [
    "eval_df = df[train_size:].copy()"
   ]
  },
  {
   "cell_type": "markdown",
   "metadata": {},
   "source": [
    "Evaluate ad-hoc policy used to generate confounding (interesting: actually good for treatment assignment)."
   ]
  },
  {
   "cell_type": "code",
   "execution_count": 8,
   "metadata": {},
   "outputs": [
    {
     "data": {
      "image/png": "[encoded data removed]",
      "text/plain": [
       "<Figure size 432x288 with 1 Axes>"
      ]
     },
     "metadata": {
      "needs_background": "light"
     },
     "output_type": "display_data"
    }
   ],
   "source": [
    "def evaluate(e_df, title):\n",
    "    e_df = e_df.sort_values('pred', ascending=False)\n",
    "    cum_per = np.arange(e_df.shape[0]) / e_df.shape[0]\n",
    "    fractions = []\n",
    "    effects = []\n",
    "    size = 10\n",
    "    for i in range(size):\n",
    "        targeted = cum_per < (i+1)/size\n",
    "        fraction = targeted.mean()\n",
    "        avg_outcomes = e_df[targeted].groupby('treatment').visit.mean()\n",
    "        effect = avg_outcomes.loc[1] - avg_outcomes.loc[0]\n",
    "        fractions.append(fraction)\n",
    "        effects.append(effect)\n",
    "    plt.plot(fractions, effects, label=title)\n",
    "    plt.xlabel(\"% Targeted\")\n",
    "    plt.ylabel(\"CATE\")\n",
    "    plt.legend()\n",
    "\n",
    "eval_df['pred'] = eval_df[confounder]\n",
    "evaluate(eval_df, \"Ad-hoc policy\")\n",
    "plt.show()"
   ]
  },
  {
   "cell_type": "markdown",
   "metadata": {},
   "source": [
    "Train policy with experimental data."
   ]
  },
  {
   "cell_type": "code",
   "execution_count": 9,
   "metadata": {},
   "outputs": [
    {
     "name": "stdout",
     "output_type": "stream",
     "text": [
      "Best parameters set found on development set:\n",
      "{'min_samples_leaf': 7000}\n",
      "--- Time to fit (and tune) causal tree 9.721786499023438 seconds ---\n"
     ]
    }
   ],
   "source": [
    "def fit_causal_tree(df_causal, min_samples_leaf=5000, tune=False):    \n",
    "    X = df_causal[limited_features + ['treatment']].rename(columns={\"treatment\":\"treated\"})\n",
    "    y =  df_causal.visit\n",
    "    # Fit and tune causal tree\n",
    "    start_time = time.time()\n",
    "    if tune:\n",
    "        tuned_parameters = [{'min_samples_leaf': range(1000, 10000, 1000)}]\n",
    "        grid_tree = GridSearchCV(CausalTree(random_state=42), tuned_parameters, cv=5)\n",
    "        grid_tree.fit(X, y)\n",
    "        print(\"Best parameters set found on development set:\")\n",
    "        print(grid_tree.best_params_)\n",
    "        causal_tree = grid_tree.best_estimator_\n",
    "    else:\n",
    "        causal_tree = CausalTree(min_samples_leaf=min_samples_leaf, random_state=42)\n",
    "        causal_tree.fit(X, y)   \n",
    "    print(\"--- Time to fit (and tune) causal tree %s seconds ---\" % (time.time() - start_time))\n",
    "    return causal_tree\n",
    "\n",
    "exp_tree = fit_causal_tree(exp_df, tune=True)"
   ]
  },
  {
   "cell_type": "markdown",
   "metadata": {},
   "source": [
    "Evaluate model with experimental data."
   ]
  },
  {
   "cell_type": "code",
   "execution_count": 10,
   "metadata": {},
   "outputs": [
    {
     "data": {
      "image/png": "[encoded data removed]",
      "text/plain": [
       "<Figure size 432x288 with 1 Axes>"
      ]
     },
     "metadata": {
      "needs_background": "light"
     },
     "output_type": "display_data"
    }
   ],
   "source": [
    "eval_df['pred'] = eval_df[confounder]\n",
    "evaluate(eval_df, \"Ad-hoc policy\")\n",
    "eval_df['pred'] = exp_tree.predict(eval_df[limited_features])\n",
    "evaluate(eval_df, \"Experimental  tree\")\n",
    "plt.show()"
   ]
  },
  {
   "cell_type": "markdown",
   "metadata": {},
   "source": [
    "Train policy with observational data."
   ]
  },
  {
   "cell_type": "code",
   "execution_count": 11,
   "metadata": {},
   "outputs": [
    {
     "name": "stdout",
     "output_type": "stream",
     "text": [
      "--- Time to fit (and tune) causal tree 175.30824279785156 seconds ---\n"
     ]
    }
   ],
   "source": [
    "obs_tree = fit_causal_tree(obs_df, min_samples_leaf=exp_tree.min_samples_leaf)"
   ]
  },
  {
   "cell_type": "markdown",
   "metadata": {},
   "source": [
    "Evaluate policy with observational data."
   ]
  },
  {
   "cell_type": "code",
   "execution_count": 12,
   "metadata": {},
   "outputs": [
    {
     "data": {
      "image/png": "[encoded data removed]",
      "text/plain": [
       "<Figure size 432x288 with 1 Axes>"
      ]
     },
     "metadata": {
      "needs_background": "light"
     },
     "output_type": "display_data"
    }
   ],
   "source": [
    "eval_df['pred'] = eval_df[confounder]\n",
    "evaluate(eval_df, \"Ad-hoc policy\")\n",
    "eval_df['pred'] = obs_tree.predict(eval_df[limited_features])\n",
    "evaluate(eval_df, \"Observational tree\")\n",
    "plt.show()"
   ]
  },
  {
   "cell_type": "markdown",
   "metadata": {},
   "source": [
    "Prepare data for deconfounder tree."
   ]
  },
  {
   "cell_type": "code",
   "execution_count": 13,
   "metadata": {},
   "outputs": [],
   "source": [
    "exp_dec_df = exp_df.copy()\n",
    "exp_dec_df['effect'] = obs_tree.predict(exp_dec_df[limited_features])\n",
    "X_dec = exp_dec_df[limited_features + ['treatment', 'effect']].rename(columns={\"treatment\":\"treated\"})\n",
    "y_dec = exp_dec_df.visit"
   ]
  },
  {
   "cell_type": "markdown",
   "metadata": {},
   "source": [
    "Fit deconfounder tree."
   ]
  },
  {
   "cell_type": "code",
   "execution_count": 14,
   "metadata": {},
   "outputs": [
    {
     "name": "stdout",
     "output_type": "stream",
     "text": [
      "--- Time to fit (and tune) causal tree 9.48140001296997 seconds ---\n"
     ]
    },
    {
     "data": {
      "text/plain": [
       "0.044160    12498\n",
       "0.014262     7501\n",
       "0.029053     7501\n",
       "0.002448     7500\n",
       "0.009835     7500\n",
       "0.009591     7500\n",
       "dtype: int64"
      ]
     },
     "execution_count": 14,
     "metadata": {},
     "output_type": "execute_result"
    }
   ],
   "source": [
    "start_time = time.time()\n",
    "tuned_parameters = [{'min_weight_fraction_leaf': np.array(range(5, 55, 5))/100}]\n",
    "deconfounder = GridSearchCV(DeconfounderTree(random_state=42), tuned_parameters, cv=5)\n",
    "#deconfounder = DeconfounderTree(random_state=42, min_weight_fraction_leaf=0.1)\n",
    "deconfounder.fit(X_dec, y_dec)\n",
    "print(\"--- Time to fit (and tune) causal tree %s seconds ---\" % (time.time() - start_time))\n",
    "pd.Series(deconfounder.predict(X_dec)).value_counts()"
   ]
  },
  {
   "cell_type": "markdown",
   "metadata": {},
   "source": [
    "Evaluate with deconfounder tree."
   ]
  },
  {
   "cell_type": "code",
   "execution_count": 15,
   "metadata": {},
   "outputs": [
    {
     "data": {
      "image/png": "[encoded data removed]",
      "text/plain": [
       "<Figure size 432x288 with 1 Axes>"
      ]
     },
     "metadata": {
      "needs_background": "light"
     },
     "output_type": "display_data"
    }
   ],
   "source": [
    "eval_df['pred'] = eval_df[confounder]\n",
    "evaluate(eval_df, \"Ad-hoc policy\")\n",
    "eval_df['pred'] = obs_tree.predict(eval_df[limited_features]) - deconfounder.predict(eval_df[limited_features]) \n",
    "evaluate(eval_df, \"Corrected tree\")\n",
    "plt.show()"
   ]
  },
  {
   "cell_type": "code",
   "execution_count": 16,
   "metadata": {},
   "outputs": [
    {
     "name": "stdout",
     "output_type": "stream",
     "text": [
      "---Experimental---\n",
      "Marginal Visits: 46,879.0\n",
      "Estimated impact: 50,003.0\n",
      "---Observational---\n",
      "Marginal Visits: 50,474.0\n",
      "Estimated impact: 246,148.0\n",
      "---Deconfounded---\n",
      "Marginal Visits: 49,783.0\n",
      "Estimated impact: 212,461.0\n"
     ]
    }
   ],
   "source": [
    "total_impressions = 1000000\n",
    "boundary = 0.1\n",
    "def get_avg_benefit(e_df):\n",
    "    e_df = e_df.sort_values('pred', ascending=False)\n",
    "    targeted = np.arange(e_df.shape[0]) / e_df.shape[0] < boundary \n",
    "    fraction = targeted.mean()\n",
    "    avg_outcomes = e_df[targeted].groupby('treatment').visit.mean()\n",
    "    print(f\"Marginal Visits: {np.round((avg_outcomes.loc[1] - avg_outcomes.loc[0])*total_impressions,0):,}\")\n",
    "    print(f\"Estimated impact: {np.round(e_df[targeted].pred.mean() * total_impressions, 0):,}\")\n",
    "\n",
    "print(\"---Experimental---\")\n",
    "eval_df['pred'] = exp_tree.predict(eval_df[limited_features])\n",
    "get_avg_benefit(eval_df)\n",
    "print(\"---Observational---\")\n",
    "eval_df['pred'] = obs_tree.predict(eval_df[limited_features])\n",
    "get_avg_benefit(eval_df)\n",
    "print(\"---Deconfounded---\")\n",
    "eval_df['pred'] -= deconfounder.predict(eval_df[limited_features])\n",
    "get_avg_benefit(eval_df)"
   ]
  }
 ],
 "metadata": {
  "anaconda-cloud": {},
  "kernelspec": {
   "display_name": "deconfounder",
   "language": "python",
   "name": "deconfounder"
  },
  "language_info": {
   "codemirror_mode": {
    "name": "ipython",
    "version": 3
   },
   "file_extension": ".py",
   "mimetype": "text/x-python",
   "name": "python",
   "nbconvert_exporter": "python",
   "pygments_lexer": "ipython3",
   "version": "3.6.7"
  }
 },
 "nbformat": 4,
 "nbformat_minor": 2
}
