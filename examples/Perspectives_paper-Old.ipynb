{
 "cells": [
  {
   "cell_type": "markdown",
   "metadata": {},
   "source": [
    "Load data."
   ]
  },
  {
   "cell_type": "code",
   "execution_count": 1,
   "metadata": {},
   "outputs": [],
   "source": [
    "### LINES TO IMPORT THE DECONFOUNDER PACKAGE IN THE PARENT FOLDER ###\n",
    "import os\n",
    "import sys\n",
    "sys.path.append(\"..\")\n",
    "### IMPORTS\n",
    "import matplotlib.pyplot as plt\n",
    "import numpy as np\n",
    "from numpy.polynomial.polynomial import polyfit\n",
    "import pandas as pd\n",
    "import scipy.stats as st\n",
    "from sklearn.model_selection import train_test_split\n",
    "from sklearn.model_selection import GridSearchCV\n",
    "import time\n",
    "\n",
    "# Load data\n",
    "df = pd.read_csv(\"../data/criteo-uplift-v2.1.csv\")\n",
    "df = df.sample(frac=1, random_state=42)"
   ]
  },
  {
   "cell_type": "markdown",
   "metadata": {},
   "source": [
    "Test the treatment was randomly assigned (according to the F-statistic, it appears it was not)."
   ]
  },
  {
   "cell_type": "code",
   "execution_count": 9,
   "metadata": {},
   "outputs": [
    {
     "name": "stderr",
     "output_type": "stream",
     "text": [
      "C:\\Users\\ferlo\\Anaconda3\\envs\\deconfounder\\lib\\site-packages\\numpy\\core\\fromnumeric.py:2389: FutureWarning: Method .ptp is deprecated and will be removed in a future version. Use numpy.ptp instead.\n",
      "  return ptp(axis=axis, out=out, **kwargs)\n"
     ]
    },
    {
     "name": "stdout",
     "output_type": "stream",
     "text": [
      "                            OLS Regression Results                            \n",
      "==============================================================================\n",
      "Dep. Variable:              treatment   R-squared:                       0.000\n",
      "Model:                            OLS   Adj. R-squared:                  0.000\n",
      "Method:                 Least Squares   F-statistic:                     428.5\n",
      "Date:                Wed, 17 Feb 2021   Prob (F-statistic):               0.00\n",
      "Time:                        22:44:17   Log-Likelihood:            -5.4372e+06\n",
      "No. Observations:            13979592   AIC:                         1.087e+07\n",
      "Df Residuals:                13979579   BIC:                         1.087e+07\n",
      "Df Model:                          12                                         \n",
      "Covariance Type:            nonrobust                                         \n",
      "==============================================================================\n",
      "                 coef    std err          t      P>|t|      [0.025      0.975]\n",
      "------------------------------------------------------------------------------\n",
      "const          0.9932      0.024     41.992      0.000       0.947       1.040\n",
      "f0         -2.249e-05   2.67e-05     -0.843      0.399   -7.48e-05    2.98e-05\n",
      "f1             0.0028      0.001      2.123      0.034       0.000       0.005\n",
      "f2            -0.0032      0.000     -6.699      0.000      -0.004      -0.002\n",
      "f3            -0.0029      0.000    -27.405      0.000      -0.003      -0.003\n",
      "f4            -0.0053      0.001     -9.224      0.000      -0.006      -0.004\n",
      "f5            -0.0032      0.000     -6.810      0.000      -0.004      -0.002\n",
      "f6            -0.0005   3.12e-05    -15.384      0.000      -0.001      -0.000\n",
      "f7         -1.748e-05      0.000     -0.126      0.900      -0.000       0.000\n",
      "f8            -0.0243      0.004     -6.800      0.000      -0.031      -0.017\n",
      "f9          8.995e-05   2.67e-05      3.368      0.001    3.76e-05       0.000\n",
      "f10            0.0052      0.001      5.995      0.000       0.004       0.007\n",
      "f11           -0.0009      0.007     -0.137      0.891      -0.014       0.012\n",
      "==============================================================================\n",
      "Omnibus:                  4610452.701   Durbin-Watson:                   2.001\n",
      "Prob(Omnibus):                  0.000   Jarque-Bera (JB):         10919143.046\n",
      "Skew:                          -1.959   Prob(JB):                         0.00\n",
      "Kurtosis:                       4.841   Cond. No.                     8.14e+03\n",
      "==============================================================================\n",
      "\n",
      "Warnings:\n",
      "[1] Standard Errors assume that the covariance matrix of the errors is correctly specified.\n",
      "[2] The condition number is large, 8.14e+03. This might indicate that there are\n",
      "strong multicollinearity or other numerical problems.\n"
     ]
    }
   ],
   "source": [
    "import statsmodels.api as sm\n",
    "\n",
    "all_features = df.columns.values[:12].tolist()\n",
    "X = sm.add_constant(df[all_features])\n",
    "y = df.treatment\n",
    "model = sm.OLS(y, X)\n",
    "results = model.fit()\n",
    "print(results.summary())"
   ]
  },
  {
   "cell_type": "markdown",
   "metadata": {},
   "source": [
    "Data according to treatment."
   ]
  },
  {
   "cell_type": "code",
   "execution_count": 12,
   "metadata": {},
   "outputs": [],
   "source": [
    "treated = df.treatment == 1\n",
    "X_tr = df.loc[treated, all_features]\n",
    "y_tr = df.conversion[treated]\n",
    "X_un = df.loc[~treated, all_features]\n",
    "y_un = df.conversion[~treated]"
   ]
  },
  {
   "cell_type": "markdown",
   "metadata": {},
   "source": [
    "Train, tune, and make out of sample predictions for the untreated."
   ]
  },
  {
   "cell_type": "code",
   "execution_count": 89,
   "metadata": {},
   "outputs": [
    {
     "name": "stdout",
     "output_type": "stream",
     "text": [
      "Fitting 5 folds for each of 5 candidates, totalling 25 fits\n"
     ]
    },
    {
     "name": "stderr",
     "output_type": "stream",
     "text": [
      "[Parallel(n_jobs=1)]: Using backend SequentialBackend with 1 concurrent workers.\n"
     ]
    },
    {
     "name": "stdout",
     "output_type": "stream",
     "text": [
      "[CV] min_samples_leaf=2000 ...........................................\n",
      "[CV] ............... min_samples_leaf=2000, score=0.930, total=  22.0s\n",
      "[CV] min_samples_leaf=2000 ...........................................\n"
     ]
    },
    {
     "name": "stderr",
     "output_type": "stream",
     "text": [
      "[Parallel(n_jobs=1)]: Done   1 out of   1 | elapsed:   21.9s remaining:    0.0s\n"
     ]
    },
    {
     "name": "stdout",
     "output_type": "stream",
     "text": [
      "[CV] ............... min_samples_leaf=2000, score=0.943, total=  17.2s\n",
      "[CV] min_samples_leaf=2000 ...........................................\n"
     ]
    },
    {
     "name": "stderr",
     "output_type": "stream",
     "text": [
      "[Parallel(n_jobs=1)]: Done   2 out of   2 | elapsed:   39.1s remaining:    0.0s\n"
     ]
    },
    {
     "name": "stdout",
     "output_type": "stream",
     "text": [
      "[CV] ............... min_samples_leaf=2000, score=0.938, total=  14.8s\n",
      "[CV] min_samples_leaf=2000 ...........................................\n"
     ]
    },
    {
     "name": "stderr",
     "output_type": "stream",
     "text": [
      "[Parallel(n_jobs=1)]: Done   3 out of   3 | elapsed:   53.9s remaining:    0.0s\n"
     ]
    },
    {
     "name": "stdout",
     "output_type": "stream",
     "text": [
      "[CV] ............... min_samples_leaf=2000, score=0.944, total=  16.6s\n",
      "[CV] min_samples_leaf=2000 ...........................................\n"
     ]
    },
    {
     "name": "stderr",
     "output_type": "stream",
     "text": [
      "[Parallel(n_jobs=1)]: Done   4 out of   4 | elapsed:  1.2min remaining:    0.0s\n"
     ]
    },
    {
     "name": "stdout",
     "output_type": "stream",
     "text": [
      "[CV] ............... min_samples_leaf=2000, score=0.933, total=  17.0s\n",
      "[CV] min_samples_leaf=4000 ...........................................\n"
     ]
    },
    {
     "name": "stderr",
     "output_type": "stream",
     "text": [
      "[Parallel(n_jobs=1)]: Done   5 out of   5 | elapsed:  1.5min remaining:    0.0s\n"
     ]
    },
    {
     "name": "stdout",
     "output_type": "stream",
     "text": [
      "[CV] ............... min_samples_leaf=4000, score=0.945, total=  16.0s\n",
      "[CV] min_samples_leaf=4000 ...........................................\n"
     ]
    },
    {
     "name": "stderr",
     "output_type": "stream",
     "text": [
      "[Parallel(n_jobs=1)]: Done   6 out of   6 | elapsed:  1.7min remaining:    0.0s\n"
     ]
    },
    {
     "name": "stdout",
     "output_type": "stream",
     "text": [
      "[CV] ............... min_samples_leaf=4000, score=0.952, total=  13.7s\n",
      "[CV] min_samples_leaf=4000 ...........................................\n"
     ]
    },
    {
     "name": "stderr",
     "output_type": "stream",
     "text": [
      "[Parallel(n_jobs=1)]: Done   7 out of   7 | elapsed:  2.0min remaining:    0.0s\n"
     ]
    },
    {
     "name": "stdout",
     "output_type": "stream",
     "text": [
      "[CV] ............... min_samples_leaf=4000, score=0.947, total=  14.0s\n",
      "[CV] min_samples_leaf=4000 ...........................................\n"
     ]
    },
    {
     "name": "stderr",
     "output_type": "stream",
     "text": [
      "[Parallel(n_jobs=1)]: Done   8 out of   8 | elapsed:  2.2min remaining:    0.0s\n"
     ]
    },
    {
     "name": "stdout",
     "output_type": "stream",
     "text": [
      "[CV] ............... min_samples_leaf=4000, score=0.950, total=  14.5s\n",
      "[CV] min_samples_leaf=4000 ...........................................\n"
     ]
    },
    {
     "name": "stderr",
     "output_type": "stream",
     "text": [
      "[Parallel(n_jobs=1)]: Done   9 out of   9 | elapsed:  2.4min remaining:    0.0s\n"
     ]
    },
    {
     "name": "stdout",
     "output_type": "stream",
     "text": [
      "[CV] ............... min_samples_leaf=4000, score=0.945, total=  14.0s\n",
      "[CV] min_samples_leaf=8000 ...........................................\n",
      "[CV] ............... min_samples_leaf=8000, score=0.951, total=  12.7s\n",
      "[CV] min_samples_leaf=8000 ...........................................\n",
      "[CV] ............... min_samples_leaf=8000, score=0.957, total=  12.8s\n",
      "[CV] min_samples_leaf=8000 ...........................................\n",
      "[CV] ............... min_samples_leaf=8000, score=0.949, total=  12.3s\n",
      "[CV] min_samples_leaf=8000 ...........................................\n",
      "[CV] ............... min_samples_leaf=8000, score=0.955, total=  14.5s\n",
      "[CV] min_samples_leaf=8000 ...........................................\n",
      "[CV] ............... min_samples_leaf=8000, score=0.949, total=  13.2s\n",
      "[CV] min_samples_leaf=16000 ..........................................\n",
      "[CV] .............. min_samples_leaf=16000, score=0.952, total=  11.4s\n",
      "[CV] min_samples_leaf=16000 ..........................................\n",
      "[CV] .............. min_samples_leaf=16000, score=0.957, total=  10.6s\n",
      "[CV] min_samples_leaf=16000 ..........................................\n",
      "[CV] .............. min_samples_leaf=16000, score=0.954, total=  10.4s\n",
      "[CV] min_samples_leaf=16000 ..........................................\n",
      "[CV] .............. min_samples_leaf=16000, score=0.957, total=  11.5s\n",
      "[CV] min_samples_leaf=16000 ..........................................\n",
      "[CV] .............. min_samples_leaf=16000, score=0.950, total=  12.1s\n",
      "[CV] min_samples_leaf=32000 ..........................................\n",
      "[CV] .............. min_samples_leaf=32000, score=0.950, total=  10.2s\n",
      "[CV] min_samples_leaf=32000 ..........................................\n",
      "[CV] .............. min_samples_leaf=32000, score=0.954, total=   9.2s\n",
      "[CV] min_samples_leaf=32000 ..........................................\n",
      "[CV] .............. min_samples_leaf=32000, score=0.951, total=   8.1s\n",
      "[CV] min_samples_leaf=32000 ..........................................\n",
      "[CV] .............. min_samples_leaf=32000, score=0.955, total=   8.0s\n",
      "[CV] min_samples_leaf=32000 ..........................................\n",
      "[CV] .............. min_samples_leaf=32000, score=0.948, total=   8.4s\n"
     ]
    },
    {
     "name": "stderr",
     "output_type": "stream",
     "text": [
      "[Parallel(n_jobs=1)]: Done  25 out of  25 | elapsed:  5.4min finished\n"
     ]
    },
    {
     "name": "stdout",
     "output_type": "stream",
     "text": [
      "Best parameters set found on development set:\n",
      "{'min_samples_leaf': 16000}\n"
     ]
    }
   ],
   "source": [
    "from sklearn.tree import DecisionTreeClassifier\n",
    "\n",
    "tuned_parameters = [{'min_samples_leaf': [4000, 8000, 16000, 32000]}]\n",
    "grid_tree = GridSearchCV(DecisionTreeClassifier(random_state=42), tuned_parameters, scoring='roc_auc', cv=5, verbose=10)\n",
    "grid_tree.fit(X_un, y_un)\n",
    "print(\"Best parameters set found on development set:\")\n",
    "print(grid_tree.best_params_)\n",
    "untreated_tree = grid_tree.best_estimator_"
   ]
  },
  {
   "cell_type": "markdown",
   "metadata": {},
   "source": [
    "Train, tune, and make out of sample predictions for the treated."
   ]
  },
  {
   "cell_type": "code",
   "execution_count": 90,
   "metadata": {},
   "outputs": [
    {
     "name": "stdout",
     "output_type": "stream",
     "text": [
      "Fitting 5 folds for each of 4 candidates, totalling 20 fits\n"
     ]
    },
    {
     "name": "stderr",
     "output_type": "stream",
     "text": [
      "[Parallel(n_jobs=1)]: Using backend SequentialBackend with 1 concurrent workers.\n"
     ]
    },
    {
     "name": "stdout",
     "output_type": "stream",
     "text": [
      "[CV] min_samples_leaf=4000 ...........................................\n",
      "[CV] ............... min_samples_leaf=4000, score=0.951, total= 2.0min\n",
      "[CV] min_samples_leaf=4000 ...........................................\n"
     ]
    },
    {
     "name": "stderr",
     "output_type": "stream",
     "text": [
      "[Parallel(n_jobs=1)]: Done   1 out of   1 | elapsed:  2.0min remaining:    0.0s\n"
     ]
    },
    {
     "name": "stdout",
     "output_type": "stream",
     "text": [
      "[CV] ............... min_samples_leaf=4000, score=0.949, total= 2.0min\n",
      "[CV] min_samples_leaf=4000 ...........................................\n"
     ]
    },
    {
     "name": "stderr",
     "output_type": "stream",
     "text": [
      "[Parallel(n_jobs=1)]: Done   2 out of   2 | elapsed:  4.0min remaining:    0.0s\n"
     ]
    },
    {
     "name": "stdout",
     "output_type": "stream",
     "text": [
      "[CV] ............... min_samples_leaf=4000, score=0.949, total= 2.3min\n",
      "[CV] min_samples_leaf=4000 ...........................................\n"
     ]
    },
    {
     "name": "stderr",
     "output_type": "stream",
     "text": [
      "[Parallel(n_jobs=1)]: Done   3 out of   3 | elapsed:  6.4min remaining:    0.0s\n"
     ]
    },
    {
     "name": "stdout",
     "output_type": "stream",
     "text": [
      "[CV] ............... min_samples_leaf=4000, score=0.952, total= 2.3min\n",
      "[CV] min_samples_leaf=4000 ...........................................\n"
     ]
    },
    {
     "name": "stderr",
     "output_type": "stream",
     "text": [
      "[Parallel(n_jobs=1)]: Done   4 out of   4 | elapsed:  8.7min remaining:    0.0s\n"
     ]
    },
    {
     "name": "stdout",
     "output_type": "stream",
     "text": [
      "[CV] ............... min_samples_leaf=4000, score=0.950, total= 2.1min\n",
      "[CV] min_samples_leaf=8000 ...........................................\n"
     ]
    },
    {
     "name": "stderr",
     "output_type": "stream",
     "text": [
      "[Parallel(n_jobs=1)]: Done   5 out of   5 | elapsed: 10.8min remaining:    0.0s\n"
     ]
    },
    {
     "name": "stdout",
     "output_type": "stream",
     "text": [
      "[CV] ............... min_samples_leaf=8000, score=0.954, total= 2.1min\n",
      "[CV] min_samples_leaf=8000 ...........................................\n"
     ]
    },
    {
     "name": "stderr",
     "output_type": "stream",
     "text": [
      "[Parallel(n_jobs=1)]: Done   6 out of   6 | elapsed: 12.9min remaining:    0.0s\n"
     ]
    },
    {
     "name": "stdout",
     "output_type": "stream",
     "text": [
      "[CV] ............... min_samples_leaf=8000, score=0.952, total= 2.1min\n",
      "[CV] min_samples_leaf=8000 ...........................................\n"
     ]
    },
    {
     "name": "stderr",
     "output_type": "stream",
     "text": [
      "[Parallel(n_jobs=1)]: Done   7 out of   7 | elapsed: 15.0min remaining:    0.0s\n"
     ]
    },
    {
     "name": "stdout",
     "output_type": "stream",
     "text": [
      "[CV] ............... min_samples_leaf=8000, score=0.953, total= 2.4min\n",
      "[CV] min_samples_leaf=8000 ...........................................\n"
     ]
    },
    {
     "name": "stderr",
     "output_type": "stream",
     "text": [
      "[Parallel(n_jobs=1)]: Done   8 out of   8 | elapsed: 17.3min remaining:    0.0s\n"
     ]
    },
    {
     "name": "stdout",
     "output_type": "stream",
     "text": [
      "[CV] ............... min_samples_leaf=8000, score=0.955, total= 2.4min\n",
      "[CV] min_samples_leaf=8000 ...........................................\n"
     ]
    },
    {
     "name": "stderr",
     "output_type": "stream",
     "text": [
      "[Parallel(n_jobs=1)]: Done   9 out of   9 | elapsed: 19.7min remaining:    0.0s\n"
     ]
    },
    {
     "name": "stdout",
     "output_type": "stream",
     "text": [
      "[CV] ............... min_samples_leaf=8000, score=0.953, total= 2.0min\n",
      "[CV] min_samples_leaf=16000 ..........................................\n",
      "[CV] .............. min_samples_leaf=16000, score=0.955, total= 1.8min\n",
      "[CV] min_samples_leaf=16000 ..........................................\n",
      "[CV] .............. min_samples_leaf=16000, score=0.954, total= 1.8min\n",
      "[CV] min_samples_leaf=16000 ..........................................\n",
      "[CV] .............. min_samples_leaf=16000, score=0.955, total= 2.1min\n",
      "[CV] min_samples_leaf=16000 ..........................................\n",
      "[CV] .............. min_samples_leaf=16000, score=0.957, total= 2.0min\n",
      "[CV] min_samples_leaf=16000 ..........................................\n",
      "[CV] .............. min_samples_leaf=16000, score=0.954, total= 1.9min\n",
      "[CV] min_samples_leaf=32000 ..........................................\n",
      "[CV] .............. min_samples_leaf=32000, score=0.955, total= 1.7min\n",
      "[CV] min_samples_leaf=32000 ..........................................\n",
      "[CV] .............. min_samples_leaf=32000, score=0.953, total= 1.8min\n",
      "[CV] min_samples_leaf=32000 ..........................................\n",
      "[CV] .............. min_samples_leaf=32000, score=0.954, total= 1.9min\n",
      "[CV] min_samples_leaf=32000 ..........................................\n",
      "[CV] .............. min_samples_leaf=32000, score=0.956, total= 1.9min\n",
      "[CV] min_samples_leaf=32000 ..........................................\n",
      "[CV] .............. min_samples_leaf=32000, score=0.954, total= 1.7min\n"
     ]
    },
    {
     "name": "stderr",
     "output_type": "stream",
     "text": [
      "[Parallel(n_jobs=1)]: Done  20 out of  20 | elapsed: 40.2min finished\n"
     ]
    },
    {
     "name": "stdout",
     "output_type": "stream",
     "text": [
      "Best parameters set found on development set:\n",
      "{'min_samples_leaf': 16000}\n"
     ]
    }
   ],
   "source": [
    "tuned_parameters = [{'min_samples_leaf': [4000, 8000, 16000, 32000]}]\n",
    "grid_tree = GridSearchCV(DecisionTreeClassifier(random_state=42), tuned_parameters, scoring='roc_auc', cv=5, verbose=10)\n",
    "grid_tree.fit(X_tr, y_tr)\n",
    "print(\"Best parameters set found on development set:\")\n",
    "print(grid_tree.best_params_)\n",
    "treated_tree = grid_tree.best_estimator_"
   ]
  },
  {
   "cell_type": "markdown",
   "metadata": {},
   "source": [
    "Look at relationship between scores."
   ]
  },
  {
   "cell_type": "code",
   "execution_count": 91,
   "metadata": {},
   "outputs": [
    {
     "name": "stdout",
     "output_type": "stream",
     "text": [
      "SpearmanrResult(correlation=-0.03295036929947584, pvalue=0.46224924756764496)\n"
     ]
    },
    {
     "data": {
      "text/plain": [
       "<matplotlib.collections.PathCollection at 0x26581fc73c8>"
      ]
     },
     "execution_count": 91,
     "metadata": {},
     "output_type": "execute_result"
    },
    {
     "data": {
      "image/png": "[encoded data removed]",
      "text/plain": [
       "<Figure size 432x288 with 1 Axes>"
      ]
     },
     "metadata": {
      "needs_background": "light"
     },
     "output_type": "display_data"
    }
   ],
   "source": [
    "from scipy import stats\n",
    "\n",
    "X_sample = X_un.sample(500, random_state=42)\n",
    "un_pred = untreated_tree.predict_proba(X_sample)[:,1] \n",
    "tr_pred = treated_tree.predict_proba(X_sample)[:,1]\n",
    "print(stats.spearmanr(un_pred, tr_pred-un_pred))\n",
    "plt.scatter(pd.DataFrame(un_pred).rank()[0], pd.DataFrame(tr_pred-un_pred).rank()[0])"
   ]
  },
  {
   "cell_type": "markdown",
   "metadata": {},
   "source": [
    "* Build both models using cross-validation to make out of sample predictions\n",
    "* Build uplift curve for both approaches\n",
    "* Uplift curve: cumsum sorted by treated - cumsum sorted by untreated"
   ]
  },
  {
   "cell_type": "markdown",
   "metadata": {},
   "source": [
    "Get out of sample predictions."
   ]
  },
  {
   "cell_type": "code",
   "execution_count": 125,
   "metadata": {},
   "outputs": [
    {
     "name": "stderr",
     "output_type": "stream",
     "text": [
      "[Parallel(n_jobs=1)]: Using backend SequentialBackend with 1 concurrent workers.\n",
      "[Parallel(n_jobs=1)]: Done   1 out of   1 | elapsed:  1.9min remaining:    0.0s\n",
      "[Parallel(n_jobs=1)]: Done   2 out of   2 | elapsed:  3.8min remaining:    0.0s\n",
      "[Parallel(n_jobs=1)]: Done   3 out of   3 | elapsed:  5.8min remaining:    0.0s\n",
      "[Parallel(n_jobs=1)]: Done   4 out of   4 | elapsed:  7.7min remaining:    0.0s\n",
      "[Parallel(n_jobs=1)]: Done   5 out of   5 | elapsed:  9.5min remaining:    0.0s\n",
      "[Parallel(n_jobs=1)]: Done   5 out of   5 | elapsed:  9.5min finished\n"
     ]
    }
   ],
   "source": [
    "from sklearn.model_selection import cross_val_predict\n",
    "\n",
    "pred_un = cross_val_predict(untreated_tree, X_un, y_un, cv=5, method='predict_proba', verbose=10)[:, 1]\n",
    "pred_tr = cross_val_predict(treated_tree, X_tr, y_tr, cv=5, method='predict_proba', verbose=10)[:, 1]"
   ]
  },
  {
   "cell_type": "markdown",
   "metadata": {},
   "source": [
    "Compare performance of the approaches."
   ]
  },
  {
   "cell_type": "code",
   "execution_count": 127,
   "metadata": {},
   "outputs": [],
   "source": [
    "# Outcome model\n",
    "pred_un_out = pred_un\n",
    "pred_tr_out = untreated_tree.predict_proba(X_tr)[:, 1]\n",
    "curve_un_out = y_un.iloc[np.argsort(-pred_un_out)].cumsum() / y_un.count()\n",
    "curve_tr_out = y_tr.iloc[np.argsort(-pred_tr_out)].cumsum() / y_tr.count()\n",
    "curve_out = curve_tr_out.quantile(np.arange(101) * 0.01) - curve_un_out.quantile(np.arange(101) * 0.01)\n",
    "curve_out = curve_out / y_un.mean()\n",
    "\n",
    "# Uplift model\n",
    "pred_un_up = treated_tree.predict_proba(X_un)[:, 1] - pred_un\n",
    "pred_tr_up = pred_tr - untreated_tree.predict_proba(X_tr)[:, 1]\n",
    "curve_un_up = y_un.iloc[np.argsort(-pred_un_up)].cumsum() / y_un.count()\n",
    "curve_tr_up = y_tr.iloc[np.argsort(-pred_tr_up)].cumsum() / y_tr.count()\n",
    "curve_up = curve_tr_up.quantile(np.arange(101) * 0.01) - curve_un_up.quantile(np.arange(101) * 0.01)\n",
    "curve_up = curve_up / y_un.mean()"
   ]
  },
  {
   "cell_type": "markdown",
   "metadata": {},
   "source": [
    "Compare uplift curves of both models."
   ]
  },
  {
   "cell_type": "code",
   "execution_count": 128,
   "metadata": {},
   "outputs": [
    {
     "data": {
      "text/plain": [
       "<matplotlib.legend.Legend at 0x26582f19438>"
      ]
     },
     "execution_count": 128,
     "metadata": {},
     "output_type": "execute_result"
    },
    {
     "data": {
      "image/png": "[encoded data removed]",
      "text/plain": [
       "<Figure size 432x288 with 1 Axes>"
      ]
     },
     "metadata": {
      "needs_background": "light"
     },
     "output_type": "display_data"
    }
   ],
   "source": [
    "plt.plot(curve_out, label=\"outcome\")\n",
    "plt.plot(curve_up, label=\"effect\")\n",
    "plt.legend()"
   ]
  },
  {
   "cell_type": "markdown",
   "metadata": {},
   "source": [
    "Compare with Causal Tree."
   ]
  },
  {
   "cell_type": "code",
   "execution_count": 98,
   "metadata": {},
   "outputs": [
    {
     "name": "stdout",
     "output_type": "stream",
     "text": [
      "Fitting 5 folds for each of 1 candidates, totalling 5 fits\n"
     ]
    },
    {
     "name": "stderr",
     "output_type": "stream",
     "text": [
      "[Parallel(n_jobs=1)]: Using backend SequentialBackend with 1 concurrent workers.\n"
     ]
    },
    {
     "name": "stdout",
     "output_type": "stream",
     "text": [
      "[CV] min_samples_leaf=16000 ..........................................\n",
      "[CV] .............. min_samples_leaf=16000, score=0.000, total= 3.4min\n",
      "[CV] min_samples_leaf=16000 ..........................................\n"
     ]
    },
    {
     "name": "stderr",
     "output_type": "stream",
     "text": [
      "[Parallel(n_jobs=1)]: Done   1 out of   1 | elapsed:  3.4min remaining:    0.0s\n"
     ]
    },
    {
     "name": "stdout",
     "output_type": "stream",
     "text": [
      "[CV] .............. min_samples_leaf=16000, score=0.000, total= 3.2min\n",
      "[CV] min_samples_leaf=16000 ..........................................\n"
     ]
    },
    {
     "name": "stderr",
     "output_type": "stream",
     "text": [
      "[Parallel(n_jobs=1)]: Done   2 out of   2 | elapsed:  6.6min remaining:    0.0s\n"
     ]
    },
    {
     "name": "stdout",
     "output_type": "stream",
     "text": [
      "[CV] .............. min_samples_leaf=16000, score=0.000, total= 3.6min\n"
     ]
    },
    {
     "name": "stderr",
     "output_type": "stream",
     "text": [
      "[Parallel(n_jobs=1)]: Done   3 out of   3 | elapsed: 10.2min remaining:    0.0s\n"
     ]
    },
    {
     "name": "stdout",
     "output_type": "stream",
     "text": [
      "[CV] min_samples_leaf=16000 ..........................................\n",
      "[CV] .............. min_samples_leaf=16000, score=0.000, total= 4.3min\n",
      "[CV] min_samples_leaf=16000 ..........................................\n"
     ]
    },
    {
     "name": "stderr",
     "output_type": "stream",
     "text": [
      "[Parallel(n_jobs=1)]: Done   4 out of   4 | elapsed: 14.5min remaining:    0.0s\n"
     ]
    },
    {
     "name": "stdout",
     "output_type": "stream",
     "text": [
      "[CV] .............. min_samples_leaf=16000, score=0.000, total= 2.6min\n"
     ]
    },
    {
     "name": "stderr",
     "output_type": "stream",
     "text": [
      "[Parallel(n_jobs=1)]: Done   5 out of   5 | elapsed: 17.1min remaining:    0.0s\n",
      "[Parallel(n_jobs=1)]: Done   5 out of   5 | elapsed: 17.1min finished\n"
     ]
    },
    {
     "name": "stdout",
     "output_type": "stream",
     "text": [
      "Best parameters set found on development set:\n",
      "{'min_samples_leaf': 16000}\n"
     ]
    }
   ],
   "source": [
    "from deconfounder.causal_tree import CausalTree\n",
    "\n",
    "X = df[all_features + ['treatment']].rename(columns={\"treatment\":\"treated\"})\n",
    "y = df.conversion\n",
    "tuned_parameters = [{'min_samples_leaf': [16000]}]\n",
    "grid_tree = GridSearchCV(CausalTree(random_state=42), tuned_parameters, cv=5, verbose=10)\n",
    "grid_tree.fit(X, y)\n",
    "print(\"Best parameters set found on development set:\")\n",
    "print(grid_tree.best_params_)\n",
    "causal_tree = grid_tree.best_estimator_"
   ]
  },
  {
   "cell_type": "code",
   "execution_count": 99,
   "metadata": {},
   "outputs": [
    {
     "name": "stdout",
     "output_type": "stream",
     "text": [
      "SpearmanrResult(correlation=0.22625543473818818, pvalue=3.1705832837712594e-07)\n"
     ]
    },
    {
     "data": {
      "text/plain": [
       "<matplotlib.collections.PathCollection at 0x26582b99ba8>"
      ]
     },
     "execution_count": 99,
     "metadata": {},
     "output_type": "execute_result"
    },
    {
     "data": {
      "image/png": "[encoded data removed]",
      "text/plain": [
       "<Figure size 432x288 with 1 Axes>"
      ]
     },
     "metadata": {
      "needs_background": "light"
     },
     "output_type": "display_data"
    }
   ],
   "source": [
    "X_sample = X_un.sample(500, random_state=42)\n",
    "un_pred = untreated_tree.predict_proba(X_sample)[:,1] \n",
    "up_pred = causal_tree.predict(X_sample)\n",
    "print(stats.spearmanr(un_pred, up_pred))\n",
    "plt.scatter(pd.DataFrame(un_pred).rank()[0], pd.DataFrame(tr_pred-up_pred).rank()[0])"
   ]
  },
  {
   "cell_type": "markdown",
   "metadata": {},
   "source": [
    "Get out of sample predictions and uplift curve."
   ]
  },
  {
   "cell_type": "code",
   "execution_count": 129,
   "metadata": {},
   "outputs": [
    {
     "name": "stderr",
     "output_type": "stream",
     "text": [
      "[Parallel(n_jobs=1)]: Using backend SequentialBackend with 1 concurrent workers.\n",
      "[Parallel(n_jobs=1)]: Done   1 out of   1 | elapsed:  6.2min remaining:    0.0s\n",
      "[Parallel(n_jobs=1)]: Done   2 out of   2 | elapsed: 10.1min remaining:    0.0s\n",
      "[Parallel(n_jobs=1)]: Done   3 out of   3 | elapsed: 14.6min remaining:    0.0s\n",
      "[Parallel(n_jobs=1)]: Done   4 out of   4 | elapsed: 18.5min remaining:    0.0s\n",
      "[Parallel(n_jobs=1)]: Done   5 out of   5 | elapsed: 21.4min remaining:    0.0s\n",
      "[Parallel(n_jobs=1)]: Done   5 out of   5 | elapsed: 21.4min finished\n"
     ]
    }
   ],
   "source": [
    "pred_up = cross_val_predict(causal_tree, X, y, cv=5, method='predict', verbose=10)"
   ]
  },
  {
   "cell_type": "code",
   "execution_count": 130,
   "metadata": {},
   "outputs": [],
   "source": [
    "# Uplift model (with causal tree)\n",
    "pred_un_up2 = pred_up[~treated]\n",
    "pred_tr_up2 = pred_up[treated]\n",
    "curve_un_up2 = y_un.iloc[np.argsort(-pred_un_up2)].cumsum() / y_un.count()\n",
    "curve_tr_up2 = y_tr.iloc[np.argsort(-pred_tr_up2)].cumsum() / y_tr.count()\n",
    "curve_up2 = curve_tr_up2.quantile(np.arange(101) * 0.01) - curve_un_up2.quantile(np.arange(101) * 0.01)\n",
    "curve_up2 = curve_up2 / y_un.mean()"
   ]
  },
  {
   "cell_type": "code",
   "execution_count": 170,
   "metadata": {},
   "outputs": [
    {
     "data": {
      "image/png": "[encoded data removed]",
      "text/plain": [
       "<Figure size 432x288 with 1 Axes>"
      ]
     },
     "metadata": {
      "needs_background": "light"
     },
     "output_type": "display_data"
    }
   ],
   "source": [
    "import matplotlib.ticker as mtick\n",
    "\n",
    "ax = plt.plot(range(0, 101), curve_out*100, label=r\"Decision Tree, $\\hat{E}[Y(0)|X]$\")[0]\n",
    "#plt.plot(curve_up, label=\"naive uplift\")\n",
    "plt.plot(range(0, 101), curve_up2*100, label=\"Causal Tree, $\\hat{E}[Y(1) - Y(0)|X]$\")\n",
    "plt.plot([0, 100], [0, curve_out.iloc[-1]*100], '--', color='black', label=r\"Random targeting $\\;$\")\n",
    "plt.xlabel(\"Percentage of individuals targeted (cost)\")\n",
    "plt.ylabel(\"Increase in conversions (benefit)\")\n",
    "plt.legend()\n",
    "\n",
    "ax.axes.yaxis.set_major_formatter(mtick.PercentFormatter())\n",
    "ax.axes.xaxis.set_major_formatter(mtick.PercentFormatter())\n",
    "plt.savefig(\"uplift curves.png\", dpi=300)"
   ]
  }
 ],
 "metadata": {
  "anaconda-cloud": {},
  "kernelspec": {
   "display_name": "Python 3",
   "language": "python",
   "name": "python3"
  },
  "language_info": {
   "codemirror_mode": {
    "name": "ipython",
    "version": 3
   },
   "file_extension": ".py",
   "mimetype": "text/x-python",
   "name": "python",
   "nbconvert_exporter": "python",
   "pygments_lexer": "ipython3",
   "version": "3.8.8"
  }
 },
 "nbformat": 4,
 "nbformat_minor": 2
}
