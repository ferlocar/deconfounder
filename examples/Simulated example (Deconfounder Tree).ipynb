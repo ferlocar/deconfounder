{
 "cells": [
  {
   "cell_type": "code",
   "execution_count": 1,
   "id": "1577875c",
   "metadata": {},
   "outputs": [],
   "source": [
    "# MODULE IMPORTS\n",
    "import os\n",
    "import sys\n",
    "sys.path.append(\"..\")\n",
    "from deconfounder.causal_tree import CausalTree\n",
    "from deconfounder.deconfounder_tree_tmp import DeconfounderTree\n",
    "# OTHER IMPORTS\n",
    "from sklearn.model_selection import GridSearchCV\n",
    "import matplotlib.pyplot as plt\n",
    "import numpy as np\n",
    "import numpy.random as npr\n",
    "import pandas as pd\n",
    "from sklearn.model_selection import train_test_split"
   ]
  },
  {
   "cell_type": "markdown",
   "id": "a028f122",
   "metadata": {},
   "source": [
    "Generate data"
   ]
  },
  {
   "cell_type": "code",
   "execution_count": 2,
   "id": "208c985e",
   "metadata": {},
   "outputs": [],
   "source": [
    "np.random.seed(42)\n",
    "data_size = 5000\n",
    "feature_size = 10\n",
    "coefs = npr.uniform(size=feature_size) - 0.5\n",
    "causal_coefs = np.zeros(feature_size)\n",
    "# Only the first coefficient is causal\n",
    "coefs[0] = 0.2\n",
    "causal_coefs[0] = 1\n",
    "X = npr.binomial(1, 0.5, size=(data_size, feature_size))\n",
    "T = npr.binomial(1, 0.5, size=data_size)\n",
    "Yu = np.dot(X, coefs * (causal_coefs == 0))\n",
    "Yt = np.dot(X, coefs) - 0.1\n",
    "Effect = Yt - Yu\n",
    "Y = T*Yt + (1-T)*Yu\n",
    "X = pd.DataFrame(X)\n",
    "X['treated'] = T"
   ]
  },
  {
   "cell_type": "markdown",
   "id": "fda817d0",
   "metadata": {},
   "source": [
    "Try causal tree."
   ]
  },
  {
   "cell_type": "code",
   "execution_count": 3,
   "id": "2a22e749",
   "metadata": {},
   "outputs": [
    {
     "name": "stdout",
     "output_type": "stream",
     "text": [
      "Best parameters set found on development set:\n",
      "{'min_samples_leaf': 1400}\n",
      "Max Causal Impact: 0.05\n",
      "Model Causal Impact: 0.05\n",
      "Average Causal Impact: -0.01\n"
     ]
    },
    {
     "data": {
      "image/png": "[encoded data removed]",
      "text/plain": [
       "<Figure size 640x480 with 1 Axes>"
      ]
     },
     "metadata": {},
     "output_type": "display_data"
    }
   ],
   "source": [
    "# Split data\n",
    "X_train, X_test, \\\n",
    "y_train, y_test, \\\n",
    "effect_train, effect_test, \\\n",
    "t_train, t_test = train_test_split(X, Y, Effect, T, random_state=42, test_size=0.20)\n",
    "# Build causal tree\n",
    "tuned_parameters = [{'min_samples_leaf': range(200, 2500, 50)}]\n",
    "clf = GridSearchCV(CausalTree(), tuned_parameters, cv=10)\n",
    "clf.fit(X_train, y_train)\n",
    "print(\"Best parameters set found on development set:\")\n",
    "print(clf.best_params_)\n",
    "pred = clf.predict(X_test)\n",
    "# Make the causal tree identifies the only causal feature\n",
    "plt.scatter(effect_test, pred)\n",
    "plt.xlabel(\"Effect\")\n",
    "plt.ylabel(\"Prediction\")\n",
    "\n",
    "def causal_impact(decisions):\n",
    "    return effect_test[decisions].mean() * decisions.mean()\n",
    "\n",
    "print (f\"Max Causal Impact: {causal_impact(effect_test>0):.2f}\")\n",
    "print (f\"Model Causal Impact: {causal_impact(pred>0):.2f}\")\n",
    "print (f\"Average Causal Impact: {causal_impact(np.full(effect_test.size, True)):.2f}\")"
   ]
  },
  {
   "cell_type": "markdown",
   "id": "8dbfae69",
   "metadata": {},
   "source": [
    "Try deconfounder tree with random scores."
   ]
  },
  {
   "cell_type": "code",
   "execution_count": 4,
   "id": "565067fb",
   "metadata": {},
   "outputs": [
    {
     "name": "stdout",
     "output_type": "stream",
     "text": [
      "Best parameters set found on development set:\n",
      "{'min_samples_leaf': 950}\n",
      "Uncorrected Causal Impact: -0.01\n",
      "Corrected Causal Impact: 0.02\n"
     ]
    }
   ],
   "source": [
    "X_train_f = X_train[X_train.columns[X_train.columns != \"treated\"]]\n",
    "X_test_f  = X_test[X_test.columns[X_test.columns != \"treated\"]]\n",
    "\n",
    "# Create random scores\n",
    "np.random.seed(42)\n",
    "scores_train = npr.uniform(size=effect_train.size) - 0.5\n",
    "scores_test = npr.uniform(size=effect_test.size) - 0.5\n",
    "\n",
    "# Build deconfounder tree\n",
    "tuned_parameters = [{'min_samples_leaf': range(200, 2501, 50)}]\n",
    "dt = GridSearchCV(DeconfounderTree(), tuned_parameters, cv=10)\n",
    "comb = pd.DataFrame(np.array([t_train, \n",
    "                              y_train, \n",
    "                              scores_train, \n",
    "                              np.zeros(scores_train.size)]).T, \n",
    "                    columns=[\"t\", \"y\", \"scores\", \"cost\"])\n",
    "dt.fit(X_train_f, comb)\n",
    "print(\"Best parameters set found on development set:\")\n",
    "print(dt.best_params_)\n",
    "corrected_scores = scores_test - dt.predict(X_test_f.values)\n",
    "\n",
    "print (f\"Uncorrected Causal Impact: {causal_impact(scores_test>0):.2f}\")\n",
    "print (f\"Corrected Causal Impact: {causal_impact(corrected_scores > 0):.2f}\")"
   ]
  },
  {
   "cell_type": "code",
   "execution_count": 5,
   "id": "c1e99b3d",
   "metadata": {},
   "outputs": [
    {
     "name": "stdout",
     "output_type": "stream",
     "text": [
      "|--- 0 <= 0.50\n",
      "|   |--- 2 <= 0.50\n",
      "|   |   |--- value: [0.46]\n",
      "|   |--- 2 >  0.50\n",
      "|   |   |--- value: [-0.45]\n",
      "|--- 0 >  0.50\n",
      "|   |--- 5 <= 0.50\n",
      "|   |   |--- value: [-0.50]\n",
      "|   |--- 5 >  0.50\n",
      "|   |   |--- value: [-0.39]\n",
      "\n"
     ]
    }
   ],
   "source": [
    "from sklearn.tree import export_text\n",
    "\n",
    "tree_rules = export_text(dt.best_estimator_, feature_names = list(X_train_f.columns))\n",
    "print(tree_rules)"
   ]
  },
  {
   "cell_type": "markdown",
   "id": "ccf2c1b3",
   "metadata": {},
   "source": [
    "Let's figure out why is this thing picking such a weird threshold when 0 <= 0.50 and 2 > 0.50."
   ]
  }
 ],
 "metadata": {
  "kernelspec": {
   "display_name": "Python 3 (ipykernel)",
   "language": "python",
   "name": "python3"
  },
  "language_info": {
   "codemirror_mode": {
    "name": "ipython",
    "version": 3
   },
   "file_extension": ".py",
   "mimetype": "text/x-python",
   "name": "python",
   "nbconvert_exporter": "python",
   "pygments_lexer": "ipython3",
   "version": "3.10.10"
  }
 },
 "nbformat": 4,
 "nbformat_minor": 5
}
